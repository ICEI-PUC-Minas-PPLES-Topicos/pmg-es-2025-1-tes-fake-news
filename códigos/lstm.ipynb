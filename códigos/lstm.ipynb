{
 "cells": [
  {
   "cell_type": "markdown",
   "id": "007758e9-2123-48a7-8b70-4b0e2e6f20de",
   "metadata": {},
   "source": [
    "## Download de dependências\n",
    "\n",
    "Este comando utiliza o gerenciador de pacotes `pip` para instalar um conjunto de bibliotecas Python essenciais para manipulação de dados, visualização, aprendizado de máquina e computação numérica. As bibliotecas instaladas são: `pandas` para estruturas de dados e ferramentas de análise de dados; `matplotlib` e `seaborn` para criação de gráficos estáticos, animados e interativos; `scikit-learn` para algoritmos de aprendizado de máquina; `tensorflow` para computação numérica e aprendizado de máquina em larga escala; e `plotly` para visualizações interativas."
   ]
  },
  {
   "cell_type": "code",
   "execution_count": 1,
   "id": "4a60f798-376e-4447-a486-7d465d3240e1",
   "metadata": {},
   "outputs": [
    {
     "name": "stdout",
     "output_type": "stream",
     "text": [
      "Defaulting to user installation because normal site-packages is not writeable\n",
      "Requirement already satisfied: pandas in /home/diogo/.local/lib/python3.11/site-packages (2.2.3)\n",
      "Requirement already satisfied: matplotlib in /home/diogo/.local/lib/python3.11/site-packages (3.10.3)\n",
      "Requirement already satisfied: seaborn in /home/diogo/.local/lib/python3.11/site-packages (0.13.2)\n",
      "Requirement already satisfied: scikit-learn in /home/diogo/.local/lib/python3.11/site-packages (1.6.1)\n",
      "Requirement already satisfied: tensorflow in /home/diogo/.local/lib/python3.11/site-packages (2.19.0)\n",
      "Requirement already satisfied: plotly in /home/diogo/.local/lib/python3.11/site-packages (6.1.1)\n",
      "Requirement already satisfied: numpy>=1.23.2 in /home/diogo/.local/lib/python3.11/site-packages (from pandas) (2.1.3)\n",
      "Requirement already satisfied: python-dateutil>=2.8.2 in /usr/lib/python3/dist-packages (from pandas) (2.8.2)\n",
      "Requirement already satisfied: pytz>=2020.1 in /usr/lib/python3/dist-packages (from pandas) (2022.7.1)\n",
      "Requirement already satisfied: tzdata>=2022.7 in /home/diogo/.local/lib/python3.11/site-packages (from pandas) (2025.2)\n",
      "Requirement already satisfied: contourpy>=1.0.1 in /home/diogo/.local/lib/python3.11/site-packages (from matplotlib) (1.3.2)\n",
      "Requirement already satisfied: cycler>=0.10 in /home/diogo/.local/lib/python3.11/site-packages (from matplotlib) (0.12.1)\n",
      "Requirement already satisfied: fonttools>=4.22.0 in /home/diogo/.local/lib/python3.11/site-packages (from matplotlib) (4.58.0)\n",
      "Requirement already satisfied: kiwisolver>=1.3.1 in /home/diogo/.local/lib/python3.11/site-packages (from matplotlib) (1.4.8)\n",
      "Requirement already satisfied: packaging>=20.0 in /home/diogo/.local/lib/python3.11/site-packages (from matplotlib) (25.0)\n",
      "Requirement already satisfied: pillow>=8 in /usr/lib/python3/dist-packages (from matplotlib) (9.4.0)\n",
      "Requirement already satisfied: pyparsing>=2.3.1 in /usr/lib/python3/dist-packages (from matplotlib) (3.0.9)\n",
      "Requirement already satisfied: scipy>=1.6.0 in /home/diogo/.local/lib/python3.11/site-packages (from scikit-learn) (1.15.3)\n",
      "Requirement already satisfied: joblib>=1.2.0 in /usr/lib/python3/dist-packages (from scikit-learn) (1.2.0)\n",
      "Requirement already satisfied: threadpoolctl>=3.1.0 in /home/diogo/.local/lib/python3.11/site-packages (from scikit-learn) (3.6.0)\n",
      "Requirement already satisfied: absl-py>=1.0.0 in /home/diogo/.local/lib/python3.11/site-packages (from tensorflow) (2.2.2)\n",
      "Requirement already satisfied: astunparse>=1.6.0 in /home/diogo/.local/lib/python3.11/site-packages (from tensorflow) (1.6.3)\n",
      "Requirement already satisfied: flatbuffers>=24.3.25 in /home/diogo/.local/lib/python3.11/site-packages (from tensorflow) (25.2.10)\n",
      "Requirement already satisfied: gast!=0.5.0,!=0.5.1,!=0.5.2,>=0.2.1 in /home/diogo/.local/lib/python3.11/site-packages (from tensorflow) (0.6.0)\n",
      "Requirement already satisfied: google-pasta>=0.1.1 in /home/diogo/.local/lib/python3.11/site-packages (from tensorflow) (0.2.0)\n",
      "Requirement already satisfied: libclang>=13.0.0 in /home/diogo/.local/lib/python3.11/site-packages (from tensorflow) (18.1.1)\n",
      "Requirement already satisfied: opt-einsum>=2.3.2 in /home/diogo/.local/lib/python3.11/site-packages (from tensorflow) (3.4.0)\n",
      "Requirement already satisfied: protobuf!=4.21.0,!=4.21.1,!=4.21.2,!=4.21.3,!=4.21.4,!=4.21.5,<6.0.0dev,>=3.20.3 in /home/diogo/.local/lib/python3.11/site-packages (from tensorflow) (5.29.4)\n",
      "Requirement already satisfied: requests<3,>=2.21.0 in /home/diogo/.local/lib/python3.11/site-packages (from tensorflow) (2.32.3)\n",
      "Requirement already satisfied: setuptools in /home/diogo/.local/lib/python3.11/site-packages (from tensorflow) (75.5.0)\n",
      "Requirement already satisfied: six>=1.12.0 in /usr/lib/python3/dist-packages (from tensorflow) (1.16.0)\n",
      "Requirement already satisfied: termcolor>=1.1.0 in /home/diogo/.local/lib/python3.11/site-packages (from tensorflow) (3.1.0)\n",
      "Requirement already satisfied: typing-extensions>=3.6.6 in /home/diogo/.local/lib/python3.11/site-packages (from tensorflow) (4.13.2)\n",
      "Requirement already satisfied: wrapt>=1.11.0 in /usr/lib/python3/dist-packages (from tensorflow) (1.14.1)\n",
      "Requirement already satisfied: grpcio<2.0,>=1.24.3 in /home/diogo/.local/lib/python3.11/site-packages (from tensorflow) (1.71.0)\n",
      "Requirement already satisfied: tensorboard~=2.19.0 in /home/diogo/.local/lib/python3.11/site-packages (from tensorflow) (2.19.0)\n",
      "Requirement already satisfied: keras>=3.5.0 in /home/diogo/.local/lib/python3.11/site-packages (from tensorflow) (3.10.0)\n",
      "Requirement already satisfied: h5py>=3.11.0 in /home/diogo/.local/lib/python3.11/site-packages (from tensorflow) (3.13.0)\n",
      "Requirement already satisfied: ml-dtypes<1.0.0,>=0.5.1 in /home/diogo/.local/lib/python3.11/site-packages (from tensorflow) (0.5.1)\n",
      "Requirement already satisfied: tensorflow-io-gcs-filesystem>=0.23.1 in /home/diogo/.local/lib/python3.11/site-packages (from tensorflow) (0.37.1)\n",
      "Requirement already satisfied: narwhals>=1.15.1 in /home/diogo/.local/lib/python3.11/site-packages (from plotly) (1.40.0)\n",
      "Requirement already satisfied: wheel<1.0,>=0.23.0 in /usr/lib/python3/dist-packages (from astunparse>=1.6.0->tensorflow) (0.38.4)\n",
      "Requirement already satisfied: rich in /home/diogo/.local/lib/python3.11/site-packages (from keras>=3.5.0->tensorflow) (14.0.0)\n",
      "Requirement already satisfied: namex in /home/diogo/.local/lib/python3.11/site-packages (from keras>=3.5.0->tensorflow) (0.0.9)\n",
      "Requirement already satisfied: optree in /home/diogo/.local/lib/python3.11/site-packages (from keras>=3.5.0->tensorflow) (0.15.0)\n",
      "Requirement already satisfied: charset-normalizer<4,>=2 in /usr/lib/python3/dist-packages (from requests<3,>=2.21.0->tensorflow) (3.0.1)\n",
      "Requirement already satisfied: idna<4,>=2.5 in /usr/lib/python3/dist-packages (from requests<3,>=2.21.0->tensorflow) (3.3)\n",
      "Requirement already satisfied: urllib3<3,>=1.21.1 in /usr/lib/python3/dist-packages (from requests<3,>=2.21.0->tensorflow) (1.26.12)\n",
      "Requirement already satisfied: certifi>=2017.4.17 in /usr/lib/python3/dist-packages (from requests<3,>=2.21.0->tensorflow) (2022.9.24)\n",
      "Requirement already satisfied: markdown>=2.6.8 in /usr/lib/python3/dist-packages (from tensorboard~=2.19.0->tensorflow) (3.4.1)\n",
      "Requirement already satisfied: tensorboard-data-server<0.8.0,>=0.7.0 in /home/diogo/.local/lib/python3.11/site-packages (from tensorboard~=2.19.0->tensorflow) (0.7.2)\n",
      "Requirement already satisfied: werkzeug>=1.0.1 in /home/diogo/.local/lib/python3.11/site-packages (from tensorboard~=2.19.0->tensorflow) (3.1.3)\n",
      "Requirement already satisfied: MarkupSafe>=2.1.1 in /usr/lib/python3/dist-packages (from werkzeug>=1.0.1->tensorboard~=2.19.0->tensorflow) (2.1.2)\n",
      "Requirement already satisfied: markdown-it-py>=2.2.0 in /home/diogo/.local/lib/python3.11/site-packages (from rich->keras>=3.5.0->tensorflow) (3.0.0)\n",
      "Requirement already satisfied: pygments<3.0.0,>=2.13.0 in /usr/lib/python3/dist-packages (from rich->keras>=3.5.0->tensorflow) (2.14.0)\n",
      "Requirement already satisfied: mdurl~=0.1 in /home/diogo/.local/lib/python3.11/site-packages (from markdown-it-py>=2.2.0->rich->keras>=3.5.0->tensorflow) (0.1.2)\n"
     ]
    }
   ],
   "source": [
    "!pip install pandas matplotlib seaborn scikit-learn tensorflow plotly"
   ]
  },
  {
   "cell_type": "markdown",
   "id": "3b58499e-7d12-4c6f-acc4-62d05ca8b628",
   "metadata": {},
   "source": [
    "## Importar bibliotecas Python\n",
    "\n",
    "Este trecho de código importa uma série de bibliotecas e módulos Python fundamentais para tarefas de processamento de linguagem natural (PLN) e aprendizado de máquina. Inicialmente, são importadas bibliotecas de propósito geral como `re` para expressões regulares e `nltk` para PLN, juntamente com bibliotecas numéricas e de manipulação de dados como `numpy` e `pandas`. Para visualização de dados, são incluídos `seaborn`, `plotly.express` e `matplotlib.pyplot`. Uma função `dummy_npwarn_decorator_factory` é definida e utilizada para suprimir um aviso específico (`_no_nep50_warning`) do NumPy, garantindo uma execução mais limpa. Em seguida, o código importa `tensorflow` e componentes específicos do `tensorflow.keras` para construção e treinamento de modelos de aprendizado profundo, incluindo camadas como `Embedding`, `LSTM`, `Dense`, `Dropout`, `Bidirectional`, `Input`, e utilitários como `Tokenizer` para processamento de texto, `pad_sequences` para normalização de sequências, e `callbacks` como `ReduceLROnPlateau` e `EarlyStopping` para otimizar o treinamento. Da biblioteca `sklearn`, são importados `train_test_split` e `KFold` para divisão de dados e validação cruzada, além de métricas de avaliação como `classification_report` e `confusion_matrix`. Finalmente, recursos do `nltk.corpus` e `nltk.stem` como `stopwords` (para remoção de palavras comuns) e `WordNetLemmatizer` (para lematização de palavras) são importados para pré-processamento de texto."
   ]
  },
  {
   "cell_type": "code",
   "execution_count": 2,
   "id": "b91604b6-a791-49ec-bf44-d8d461608582",
   "metadata": {},
   "outputs": [
    {
     "name": "stderr",
     "output_type": "stream",
     "text": [
      "2025-06-02 21:11:19.245611: I tensorflow/core/util/port.cc:153] oneDNN custom operations are on. You may see slightly different numerical results due to floating-point round-off errors from different computation orders. To turn them off, set the environment variable `TF_ENABLE_ONEDNN_OPTS=0`.\n",
      "2025-06-02 21:11:19.276044: I external/local_xla/xla/tsl/cuda/cudart_stub.cc:32] Could not find cuda drivers on your machine, GPU will not be used.\n",
      "2025-06-02 21:11:19.786112: I external/local_xla/xla/tsl/cuda/cudart_stub.cc:32] Could not find cuda drivers on your machine, GPU will not be used.\n",
      "2025-06-02 21:11:19.979607: E external/local_xla/xla/stream_executor/cuda/cuda_fft.cc:467] Unable to register cuFFT factory: Attempting to register factory for plugin cuFFT when one has already been registered\n",
      "WARNING: All log messages before absl::InitializeLog() is called are written to STDERR\n",
      "E0000 00:00:1748909480.102255    4646 cuda_dnn.cc:8579] Unable to register cuDNN factory: Attempting to register factory for plugin cuDNN when one has already been registered\n",
      "E0000 00:00:1748909480.169005    4646 cuda_blas.cc:1407] Unable to register cuBLAS factory: Attempting to register factory for plugin cuBLAS when one has already been registered\n",
      "W0000 00:00:1748909480.383913    4646 computation_placer.cc:177] computation placer already registered. Please check linkage and avoid linking the same target more than once.\n",
      "W0000 00:00:1748909480.383970    4646 computation_placer.cc:177] computation placer already registered. Please check linkage and avoid linking the same target more than once.\n",
      "W0000 00:00:1748909480.383975    4646 computation_placer.cc:177] computation placer already registered. Please check linkage and avoid linking the same target more than once.\n",
      "W0000 00:00:1748909480.383978    4646 computation_placer.cc:177] computation placer already registered. Please check linkage and avoid linking the same target more than once.\n",
      "2025-06-02 21:11:20.410357: I tensorflow/core/platform/cpu_feature_guard.cc:210] This TensorFlow binary is optimized to use available CPU instructions in performance-critical operations.\n",
      "To enable the following instructions: AVX2 AVX512F AVX512_VNNI FMA, in other operations, rebuild TensorFlow with the appropriate compiler flags.\n"
     ]
    }
   ],
   "source": [
    "import re\n",
    "import nltk\n",
    "\n",
    "import numpy as np\n",
    "import pandas as pd\n",
    "import seaborn as sns\n",
    "import plotly.express as px\n",
    "import matplotlib.pyplot as plt\n",
    "\n",
    "def dummy_npwarn_decorator_factory():\n",
    "  def npwarn_decorator(x):\n",
    "    return x\n",
    "  return npwarn_decorator\n",
    "np._no_nep50_warning = getattr(np, '_no_nep50_warning', dummy_npwarn_decorator_factory)\n",
    "\n",
    "import tensorflow as tf\n",
    "import tensorflow.keras.backend as K\n",
    "\n",
    "from tensorflow.keras.models import Sequential, Model\n",
    "from tensorflow.keras.layers import Embedding, LSTM, Dense, Dropout, Bidirectional, Input\n",
    "from tensorflow.keras.preprocessing.text import Tokenizer\n",
    "from tensorflow.keras.preprocessing.sequence import pad_sequences\n",
    "from tensorflow.keras.callbacks import ReduceLROnPlateau, EarlyStopping\n",
    "from tensorflow.keras.layers import Layer\n",
    "\n",
    "from sklearn.model_selection import train_test_split, KFold\n",
    "from sklearn.metrics import classification_report, confusion_matrix, ConfusionMatrixDisplay\n",
    "\n",
    "from nltk.corpus import stopwords\n",
    "from nltk.stem import WordNetLemmatizer"
   ]
  },
  {
   "cell_type": "markdown",
   "id": "9f50e51e-9cde-4328-b1fb-b30017cae2c7",
   "metadata": {},
   "source": [
    "## Carregar recursos nltk\n",
    "\n",
    "Este comando utiliza a biblioteca NLTK (Natural Language Toolkit) para baixar o recurso `wordnet`. O WordNet é um extenso banco de dados lexical da língua inglesa, agrupando palavras em conjuntos de sinônimos chamados synsets, e é frequentemente empregado em tarefas de processamento de linguagem natural, como lematização e análise semântica. A execução desta linha garante que os dados do WordNet estejam disponíveis localmente para uso por outras funções do NLTK."
   ]
  },
  {
   "cell_type": "code",
   "execution_count": 3,
   "id": "d0b0bbe1-7415-433e-b516-43bf66fb6372",
   "metadata": {},
   "outputs": [
    {
     "name": "stderr",
     "output_type": "stream",
     "text": [
      "[nltk_data] Downloading package wordnet to /home/diogo/nltk_data...\n",
      "[nltk_data]   Package wordnet is already up-to-date!\n"
     ]
    },
    {
     "data": {
      "text/plain": [
       "True"
      ]
     },
     "execution_count": 3,
     "metadata": {},
     "output_type": "execute_result"
    }
   ],
   "source": [
    "nltk.download('wordnet')"
   ]
  },
  {
   "cell_type": "markdown",
   "id": "aff77c4f-f446-4998-88ae-9c9b1487b220",
   "metadata": {},
   "source": [
    "## Pré-processamento textual\n",
    "\n",
    "Este trecho de código define um processo de limpeza e normalização de texto. Inicialmente, um conjunto de `stop_words` (palavras comuns como \"the\", \"is\", \"in\") em inglês é carregado e um objeto `lemmatizer` da classe `WordNetLemmatizer` é instanciado, o qual é usado para reduzir palavras à sua forma base ou lema. Em seguida, a função `clean_text` é definida para processar um texto de entrada: primeiro, ela converte todo o texto para minúsculas e remove quaisquer caracteres que não sejam letras ou espaços, utilizando expressões regulares. Depois, o texto é dividido em palavras individuais. Cada palavra é então lematizada usando o `lemmatizer` previamente inicializado. Finalmente, as palavras processadas são unidas novamente em uma única string, separadas por espaços."
   ]
  },
  {
   "cell_type": "code",
   "execution_count": 4,
   "id": "11ab35da-b25d-4de2-a194-f90958ce190b",
   "metadata": {},
   "outputs": [],
   "source": [
    "stop_words = set(stopwords.words('english'))\n",
    "lemmatizer = WordNetLemmatizer()\n",
    "\n",
    "def clean_text(text):\n",
    "    text = re.sub(r'[^a-zA-Z\\s]', '', text.lower())\n",
    "    words = text.split()\n",
    "    words = [lemmatizer.lemmatize(word) for word in words]  \n",
    "    return ' '.join(words)"
   ]
  },
  {
   "cell_type": "markdown",
   "id": "43a8efec-b288-45eb-a5c2-e7b33c063170",
   "metadata": {},
   "source": [
    "## Carregar dataset\n",
    "\n",
    "Este segmento de código utiliza a biblioteca `pandas` para carregar dados de dois arquivos CSV distintos em DataFrames. O primeiro comando, `pd.read_csv('./kaggle/input/fake-and-real-news-dataset/True.csv')`, lê o arquivo `True.csv`, localizado no diretório especificado, e armazena seu conteúdo em um DataFrame chamado `true_df`. De forma análoga, o segundo comando, `pd.read_csv('./kaggle/input/fake-and-real-news-dataset/Fake.csv')`, carrega os dados do arquivo `Fake.csv` para um DataFrame denominado `fake_df`. Presume-se que estes arquivos contenham, respectivamente, notícias verdadeiras e falsas."
   ]
  },
  {
   "cell_type": "code",
   "execution_count": 5,
   "id": "4aa61b98-7b38-4bb9-a13c-d45796c51653",
   "metadata": {},
   "outputs": [],
   "source": [
    "true_df = pd.read_csv('./kaggle/input/fake-and-real-news-dataset/True.csv')\n",
    "fake_df = pd.read_csv('./kaggle/input/fake-and-real-news-dataset/Fake.csv')"
   ]
  },
  {
   "cell_type": "markdown",
   "id": "a5ba64f7-f383-4609-bb96-5d700f1e1d64",
   "metadata": {},
   "source": [
    "## Adicionar nova coluna \"label\"\n",
    "\n",
    "Este trecho de código adiciona uma nova coluna chamada `label` a dois DataFrames existentes, `true_df` e `fake_df`. Ao DataFrame `true_df`, é atribuído o valor inteiro `1` para todas as entradas nesta nova coluna `label`. De forma similar, ao DataFrame `fake_df`, é atribuído o valor inteiro `0` para todas as entradas na coluna `label`. Esta operação é tipicamente realizada para criar uma variável alvo em tarefas de classificação, distinguindo as amostras dos dois DataFrames (por exemplo, notícias verdadeiras e falsas)."
   ]
  },
  {
   "cell_type": "code",
   "execution_count": 6,
   "id": "284f8d1e-48ba-4975-a6b5-21bbdff15253",
   "metadata": {},
   "outputs": [],
   "source": [
    "true_df['label'] = 1\n",
    "fake_df['label'] = 0"
   ]
  },
  {
   "cell_type": "markdown",
   "id": "45d21bd6-602d-478f-b3ab-6632f80f1ef3",
   "metadata": {},
   "source": [
    "## Cominar DataFrames\n",
    "\n",
    "Este trecho de código realiza a combinação e o embaralhamento de dois DataFrames, `true_df` e `fake_df`, utilizando a biblioteca `pandas`. Primeiramente, a função `pd.concat([true_df, fake_df])` une os dois DataFrames verticalmente, empilhando suas linhas para criar um único DataFrame consolidado. Subsequentemente, o método `.sample(frac=1, random_state=42)` é aplicado a este DataFrame combinado. O argumento `frac=1` especifica que todas as linhas do DataFrame devem ser selecionadas (ou seja, 100% da amostra), e `random_state=42` garante que a ordem do embaralhamento seja a mesma sempre que o código for executado, proporcionando reprodutibilidade. O DataFrame resultante, agora contendo os dados de ambos os DataFrames originais de forma aleatoriamente misturada, é atribuído à variável `df`."
   ]
  },
  {
   "cell_type": "code",
   "execution_count": 7,
   "id": "2ffbef41-a6e4-41f6-a4a2-0195c22af593",
   "metadata": {},
   "outputs": [],
   "source": [
    "df = pd.concat([true_df, fake_df]).sample(frac=1, random_state=42)"
   ]
  },
  {
   "cell_type": "markdown",
   "id": "2b4a4658-012a-460d-a67d-c4df09fc7183",
   "metadata": {},
   "source": [
    "## Aplicação de Pré-tratamento\n",
    "\n",
    "Este trecho de código processa uma coluna de texto em um DataFrame `pandas` chamado `df` e armazena os resultados em uma nova coluna. Especificamente, ele cria uma nova coluna denominada `cleaned_text` no DataFrame `df`. Os valores para esta nova coluna são gerados aplicando a função `clean_text` (previamente definida) a cada entrada da coluna `text` existente no DataFrame. Essencialmente, para cada texto na coluna `text`, a função `clean_text` é executada e seu resultado é inserido na linha correspondente da nova coluna `cleaned_text`."
   ]
  },
  {
   "cell_type": "code",
   "execution_count": 8,
   "id": "6b15f1f2-3241-4f27-8ca7-d11a3ef7d86c",
   "metadata": {},
   "outputs": [],
   "source": [
    "df['cleaned_text'] = df['text'].apply(clean_text)"
   ]
  },
  {
   "cell_type": "markdown",
   "id": "63f88ae7-ee66-44ef-9d15-bec71b66ae52",
   "metadata": {},
   "source": [
    "## Distribuição das etiquestas (\"label\")\n",
    "\n",
    "Este trecho de código analisa e visualiza a distribuição de uma coluna categórica chamada `label` dentro de um DataFrame `pandas` denominado `df`. Primeiramente, o comando `print(\"Distribuição de etiquetas:\\n\", df['label'].value_counts())` calcula e exibe a contagem de ocorrências de cada valor único presente na coluna `label`, fornecendo uma visão numérica da distribuição. Em seguida, utiliza a biblioteca `seaborn` para criar um gráfico de barras (`sns.countplot(x='label', data=df)`), que representa visualmente essas contagens. Um título descritivo, 'Distribuição de notícias reais (1) e notícias falsas (0)', é adicionado ao gráfico através de `plt.title()`. Finalmente, `plt.show()` renderiza e exibe o gráfico gerado, permitindo uma inspeção visual da proporção entre as categorias (presumivelmente, notícias reais e falsas) no conjunto de dados."
   ]
  },
  {
   "cell_type": "code",
   "execution_count": 9,
   "id": "d9197125-4ffe-4828-aec4-a5561042270a",
   "metadata": {},
   "outputs": [
    {
     "name": "stdout",
     "output_type": "stream",
     "text": [
      "Distribuição de etiquetas:\n",
      " label\n",
      "0    23481\n",
      "1    21417\n",
      "Name: count, dtype: int64\n"
     ]
    },
    {
     "data": {
      "image/png": "[encoded data removed]",
      "text/plain": [
       "<Figure size 640x480 with 1 Axes>"
      ]
     },
     "metadata": {},
     "output_type": "display_data"
    }
   ],
   "source": [
    "print(\"Distribuição de etiquetas:\\n\", df['label'].value_counts())\n",
    "sns.countplot(x='label', data=df)\n",
    "plt.title('Distribuição de notícias reais (1) e notícias falsas (0)')\n",
    "plt.show()"
   ]
  },
  {
   "cell_type": "markdown",
   "id": "c5bd328d-426c-4fbd-b3a6-fc95d2e70f2b",
   "metadata": {},
   "source": [
    "## Tokenização de Preenchimento das Sequências\n",
    "\n",
    "Este trecho de código prepara dados de texto para serem utilizados em um modelo de aprendizado de máquina, realizando a tokenização e o preenchimento (padding) das sequências. Inicialmente, são definidos dois parâmetros: `max_words`, que estabelece o tamanho máximo do vocabulário a ser considerado (as 10.000 palavras mais frequentes), e `max_len`, que determina o comprimento máximo para todas as sequências de texto (200 tokens). Em seguida, um objeto `Tokenizer` da biblioteca Keras é instanciado, configurado com `max_words`. Este `tokenizer` é treinado (`fit_on_texts`) utilizando os textos da coluna `cleaned_text` do DataFrame `df`, construindo assim um vocabulário interno. Após o treinamento, os textos da coluna `cleaned_text` são convertidos em sequências de inteiros (`texts_to_sequences`), onde cada palavra é substituída por seu índice correspondente no vocabulário. Essas sequências numéricas são então padronizadas para terem o mesmo comprimento (`max_len`) através da função `pad_sequences`, que trunca sequências mais longas ou preenche sequências mais curtas com zeros; o resultado é armazenado na variável `X`. Por fim, os valores da coluna `label` do DataFrame `df` são extraídos como um array NumPy e atribuídos à variável `y`, que normalmente representa as etiquetas ou alvos do modelo."
   ]
  },
  {
   "cell_type": "code",
   "execution_count": 10,
   "id": "6083b948-77a2-4daf-a7ca-992d98f3214f",
   "metadata": {},
   "outputs": [],
   "source": [
    "max_words = 10000\n",
    "max_len = 200\n",
    "tokenizer = Tokenizer(num_words=max_words)\n",
    "tokenizer.fit_on_texts(df['cleaned_text'])\n",
    "sequences = tokenizer.texts_to_sequences(df['cleaned_text'])\n",
    "X = pad_sequences(sequences, maxlen=max_len)\n",
    "y = df['label'].values"
   ]
  },
  {
   "cell_type": "markdown",
   "id": "15cca03b-20e8-4f40-b376-e4cf265bdbab",
   "metadata": {},
   "source": [
    "## Divisão do conjunto de dados\n",
    "\n",
    "Este comando utiliza a função `train_test_split` da biblioteca `scikit-learn` para dividir os conjuntos de dados de características `X` e de rótulos `y` em subconjuntos de treinamento e teste. A divisão é configurada pelo parâmetro `test_size=0.4`, que especifica que 40% dos dados serão alocados para o conjunto de teste, enquanto os 60% restantes formarão o conjunto de treinamento. O argumento `random_state=42` é usado para garantir que a divisão seja feita da mesma maneira sempre que o código for executado, assegurando a reprodutibilidade dos resultados. Como resultado, são geradas quatro variáveis: `X_train` e `y_train` contendo as características e rótulos para treinamento do modelo, e `X_test` e `y_test` contendo as características e rótulos para avaliação do modelo."
   ]
  },
  {
   "cell_type": "code",
   "execution_count": 11,
   "id": "2ab18ad7-a933-4f29-868e-b4da5842d7af",
   "metadata": {},
   "outputs": [],
   "source": [
    "X_train, X_test, y_train, y_test = train_test_split(X, y, test_size=0.2, random_state=42)"
   ]
  },
  {
   "cell_type": "markdown",
   "id": "c3acce35-ffb9-44dc-a1bc-6dea79a02fe3",
   "metadata": {},
   "source": [
    "## Construção do modelo\n",
    "\n",
    "Este trecho de código define uma camada de autoatenção customizada e, em seguida, constrói e compila um modelo de rede neural sequencial utilizando essa camada, destinado a tarefas de classificação binária.\n",
    "\n",
    "Inicialmente, é definida uma classe `SelfAttention` que herda de `tf.keras.layers.Layer`. O construtor `__init__` inicializa a camada com um número especificado de `units` e duas camadas densas (`W` e `V`) internas. O método `call` implementa a lógica da autoatenção: calcula um `score` aplicando as camadas `W` (com ativação tangente hiperbólica) e `V` às entradas; transforma esses scores em `attention_weights` através de uma função softmax; calcula um `context_vector` ponderando as entradas pelos pesos de atenção; e, por fim, soma o `context_vector` ao longo do eixo temporal para produzir uma representação agregada.\n",
    "\n",
    "Em seguida, são definidos hiperparâmetros para o modelo: `max_words` (tamanho do vocabulário), `max_len` (comprimento da sequência) e `embedding_dim` (dimensionalidade da camada de embedding). O modelo é construído usando a API funcional do Keras: uma camada `Input` recebe sequências de `max_len`. Essas sequências passam por uma camada `Embedding`, seguida por uma camada `Bidirectional LSTM` (que retorna sequências para a camada de atenção). Após um `Dropout` para regularização, a camada `SelfAttention` customizada é aplicada. O resultado passa por uma camada `Dense` com ativação ReLU e regularização L2, outro `Dropout`, e finalmente uma camada `Dense` de saída com ativação sigmoide, adequada para classificação binária.\n",
    "\n",
    "O `Model` é instanciado com as camadas de entrada e saída definidas. Ele é compilado (`model.compile`) utilizando o otimizador 'adam', a função de perda 'binary_crossentropy' (apropriada para classificação binária), e as métricas de 'accuracy' e AUC (Área Sob a Curva ROC). Por fim, `model.summary()` exibe um resumo da arquitetura do modelo, incluindo o número de parâmetros em cada camada."
   ]
  },
  {
   "cell_type": "code",
   "execution_count": 12,
   "id": "d526fece-8e1c-4c63-8466-c57417f8a707",
   "metadata": {},
   "outputs": [
    {
     "name": "stderr",
     "output_type": "stream",
     "text": [
      "2025-06-02 21:13:21.020659: E external/local_xla/xla/stream_executor/cuda/cuda_platform.cc:51] failed call to cuInit: INTERNAL: CUDA error: Failed call to cuInit: UNKNOWN ERROR (303)\n"
     ]
    },
    {
     "data": {
      "text/html": [
       "<pre style=\"white-space:pre;overflow-x:auto;line-height:normal;font-family:Menlo,'DejaVu Sans Mono',consolas,'Courier New',monospace\"><span style=\"font-weight: bold\">Model: \"functional\"</span>\n",
       "</pre>\n"
      ],
      "text/plain": [
       "\u001b[1mModel: \"functional\"\u001b[0m\n"
      ]
     },
     "metadata": {},
     "output_type": "display_data"
    },
    {
     "data": {
      "text/html": [
       "<pre style=\"white-space:pre;overflow-x:auto;line-height:normal;font-family:Menlo,'DejaVu Sans Mono',consolas,'Courier New',monospace\">┏━━━━━━━━━━━━━━━━━━━━━━━━━━━━━━━━━┳━━━━━━━━━━━━━━━━━━━━━━━━┳━━━━━━━━━━━━━━━┓\n",
       "┃<span style=\"font-weight: bold\"> Layer (type)                    </span>┃<span style=\"font-weight: bold\"> Output Shape           </span>┃<span style=\"font-weight: bold\">       Param # </span>┃\n",
       "┡━━━━━━━━━━━━━━━━━━━━━━━━━━━━━━━━━╇━━━━━━━━━━━━━━━━━━━━━━━━╇━━━━━━━━━━━━━━━┩\n",
       "│ input_layer (<span style=\"color: #0087ff; text-decoration-color: #0087ff\">InputLayer</span>)        │ (<span style=\"color: #00d7ff; text-decoration-color: #00d7ff\">None</span>, <span style=\"color: #00af00; text-decoration-color: #00af00\">200</span>)            │             <span style=\"color: #00af00; text-decoration-color: #00af00\">0</span> │\n",
       "├─────────────────────────────────┼────────────────────────┼───────────────┤\n",
       "│ embedding (<span style=\"color: #0087ff; text-decoration-color: #0087ff\">Embedding</span>)           │ (<span style=\"color: #00d7ff; text-decoration-color: #00d7ff\">None</span>, <span style=\"color: #00af00; text-decoration-color: #00af00\">200</span>, <span style=\"color: #00af00; text-decoration-color: #00af00\">100</span>)       │     <span style=\"color: #00af00; text-decoration-color: #00af00\">1,000,000</span> │\n",
       "├─────────────────────────────────┼────────────────────────┼───────────────┤\n",
       "│ bidirectional (<span style=\"color: #0087ff; text-decoration-color: #0087ff\">Bidirectional</span>)   │ (<span style=\"color: #00d7ff; text-decoration-color: #00d7ff\">None</span>, <span style=\"color: #00af00; text-decoration-color: #00af00\">200</span>, <span style=\"color: #00af00; text-decoration-color: #00af00\">64</span>)        │        <span style=\"color: #00af00; text-decoration-color: #00af00\">34,048</span> │\n",
       "├─────────────────────────────────┼────────────────────────┼───────────────┤\n",
       "│ dropout (<span style=\"color: #0087ff; text-decoration-color: #0087ff\">Dropout</span>)               │ (<span style=\"color: #00d7ff; text-decoration-color: #00d7ff\">None</span>, <span style=\"color: #00af00; text-decoration-color: #00af00\">200</span>, <span style=\"color: #00af00; text-decoration-color: #00af00\">64</span>)        │             <span style=\"color: #00af00; text-decoration-color: #00af00\">0</span> │\n",
       "├─────────────────────────────────┼────────────────────────┼───────────────┤\n",
       "│ self_attention (<span style=\"color: #0087ff; text-decoration-color: #0087ff\">SelfAttention</span>)  │ (<span style=\"color: #00d7ff; text-decoration-color: #00d7ff\">None</span>, <span style=\"color: #00af00; text-decoration-color: #00af00\">64</span>)             │         <span style=\"color: #00af00; text-decoration-color: #00af00\">4,225</span> │\n",
       "├─────────────────────────────────┼────────────────────────┼───────────────┤\n",
       "│ dense_2 (<span style=\"color: #0087ff; text-decoration-color: #0087ff\">Dense</span>)                 │ (<span style=\"color: #00d7ff; text-decoration-color: #00d7ff\">None</span>, <span style=\"color: #00af00; text-decoration-color: #00af00\">64</span>)             │         <span style=\"color: #00af00; text-decoration-color: #00af00\">4,160</span> │\n",
       "├─────────────────────────────────┼────────────────────────┼───────────────┤\n",
       "│ dropout_1 (<span style=\"color: #0087ff; text-decoration-color: #0087ff\">Dropout</span>)             │ (<span style=\"color: #00d7ff; text-decoration-color: #00d7ff\">None</span>, <span style=\"color: #00af00; text-decoration-color: #00af00\">64</span>)             │             <span style=\"color: #00af00; text-decoration-color: #00af00\">0</span> │\n",
       "├─────────────────────────────────┼────────────────────────┼───────────────┤\n",
       "│ dense_3 (<span style=\"color: #0087ff; text-decoration-color: #0087ff\">Dense</span>)                 │ (<span style=\"color: #00d7ff; text-decoration-color: #00d7ff\">None</span>, <span style=\"color: #00af00; text-decoration-color: #00af00\">1</span>)              │            <span style=\"color: #00af00; text-decoration-color: #00af00\">65</span> │\n",
       "└─────────────────────────────────┴────────────────────────┴───────────────┘\n",
       "</pre>\n"
      ],
      "text/plain": [
       "┏━━━━━━━━━━━━━━━━━━━━━━━━━━━━━━━━━┳━━━━━━━━━━━━━━━━━━━━━━━━┳━━━━━━━━━━━━━━━┓\n",
       "┃\u001b[1m \u001b[0m\u001b[1mLayer (type)                   \u001b[0m\u001b[1m \u001b[0m┃\u001b[1m \u001b[0m\u001b[1mOutput Shape          \u001b[0m\u001b[1m \u001b[0m┃\u001b[1m \u001b[0m\u001b[1m      Param #\u001b[0m\u001b[1m \u001b[0m┃\n",
       "┡━━━━━━━━━━━━━━━━━━━━━━━━━━━━━━━━━╇━━━━━━━━━━━━━━━━━━━━━━━━╇━━━━━━━━━━━━━━━┩\n",
       "│ input_layer (\u001b[38;5;33mInputLayer\u001b[0m)        │ (\u001b[38;5;45mNone\u001b[0m, \u001b[38;5;34m200\u001b[0m)            │             \u001b[38;5;34m0\u001b[0m │\n",
       "├─────────────────────────────────┼────────────────────────┼───────────────┤\n",
       "│ embedding (\u001b[38;5;33mEmbedding\u001b[0m)           │ (\u001b[38;5;45mNone\u001b[0m, \u001b[38;5;34m200\u001b[0m, \u001b[38;5;34m100\u001b[0m)       │     \u001b[38;5;34m1,000,000\u001b[0m │\n",
       "├─────────────────────────────────┼────────────────────────┼───────────────┤\n",
       "│ bidirectional (\u001b[38;5;33mBidirectional\u001b[0m)   │ (\u001b[38;5;45mNone\u001b[0m, \u001b[38;5;34m200\u001b[0m, \u001b[38;5;34m64\u001b[0m)        │        \u001b[38;5;34m34,048\u001b[0m │\n",
       "├─────────────────────────────────┼────────────────────────┼───────────────┤\n",
       "│ dropout (\u001b[38;5;33mDropout\u001b[0m)               │ (\u001b[38;5;45mNone\u001b[0m, \u001b[38;5;34m200\u001b[0m, \u001b[38;5;34m64\u001b[0m)        │             \u001b[38;5;34m0\u001b[0m │\n",
       "├─────────────────────────────────┼────────────────────────┼───────────────┤\n",
       "│ self_attention (\u001b[38;5;33mSelfAttention\u001b[0m)  │ (\u001b[38;5;45mNone\u001b[0m, \u001b[38;5;34m64\u001b[0m)             │         \u001b[38;5;34m4,225\u001b[0m │\n",
       "├─────────────────────────────────┼────────────────────────┼───────────────┤\n",
       "│ dense_2 (\u001b[38;5;33mDense\u001b[0m)                 │ (\u001b[38;5;45mNone\u001b[0m, \u001b[38;5;34m64\u001b[0m)             │         \u001b[38;5;34m4,160\u001b[0m │\n",
       "├─────────────────────────────────┼────────────────────────┼───────────────┤\n",
       "│ dropout_1 (\u001b[38;5;33mDropout\u001b[0m)             │ (\u001b[38;5;45mNone\u001b[0m, \u001b[38;5;34m64\u001b[0m)             │             \u001b[38;5;34m0\u001b[0m │\n",
       "├─────────────────────────────────┼────────────────────────┼───────────────┤\n",
       "│ dense_3 (\u001b[38;5;33mDense\u001b[0m)                 │ (\u001b[38;5;45mNone\u001b[0m, \u001b[38;5;34m1\u001b[0m)              │            \u001b[38;5;34m65\u001b[0m │\n",
       "└─────────────────────────────────┴────────────────────────┴───────────────┘\n"
      ]
     },
     "metadata": {},
     "output_type": "display_data"
    },
    {
     "data": {
      "text/html": [
       "<pre style=\"white-space:pre;overflow-x:auto;line-height:normal;font-family:Menlo,'DejaVu Sans Mono',consolas,'Courier New',monospace\"><span style=\"font-weight: bold\"> Total params: </span><span style=\"color: #00af00; text-decoration-color: #00af00\">1,042,498</span> (3.98 MB)\n",
       "</pre>\n"
      ],
      "text/plain": [
       "\u001b[1m Total params: \u001b[0m\u001b[38;5;34m1,042,498\u001b[0m (3.98 MB)\n"
      ]
     },
     "metadata": {},
     "output_type": "display_data"
    },
    {
     "data": {
      "text/html": [
       "<pre style=\"white-space:pre;overflow-x:auto;line-height:normal;font-family:Menlo,'DejaVu Sans Mono',consolas,'Courier New',monospace\"><span style=\"font-weight: bold\"> Trainable params: </span><span style=\"color: #00af00; text-decoration-color: #00af00\">1,042,498</span> (3.98 MB)\n",
       "</pre>\n"
      ],
      "text/plain": [
       "\u001b[1m Trainable params: \u001b[0m\u001b[38;5;34m1,042,498\u001b[0m (3.98 MB)\n"
      ]
     },
     "metadata": {},
     "output_type": "display_data"
    },
    {
     "data": {
      "text/html": [
       "<pre style=\"white-space:pre;overflow-x:auto;line-height:normal;font-family:Menlo,'DejaVu Sans Mono',consolas,'Courier New',monospace\"><span style=\"font-weight: bold\"> Non-trainable params: </span><span style=\"color: #00af00; text-decoration-color: #00af00\">0</span> (0.00 B)\n",
       "</pre>\n"
      ],
      "text/plain": [
       "\u001b[1m Non-trainable params: \u001b[0m\u001b[38;5;34m0\u001b[0m (0.00 B)\n"
      ]
     },
     "metadata": {},
     "output_type": "display_data"
    }
   ],
   "source": [
    "class SelfAttention(Layer):\n",
    "    def __init__(self, units):\n",
    "        super(SelfAttention, self).__init__()\n",
    "        self.units = units\n",
    "        self.W = Dense(units)\n",
    "        self.V = Dense(1)\n",
    "    def call(self, inputs):\n",
    "        score = self.V(K.tanh(self.W(inputs)))\n",
    "        attention_weights = K.softmax(score, axis=1)\n",
    "        context_vector = attention_weights * inputs\n",
    "        context_vector = K.sum(context_vector, axis=1)\n",
    "        return context_vector\n",
    "\n",
    "max_words = 10000\n",
    "max_len = 200\n",
    "embedding_dim = 100\n",
    "\n",
    "inputs = Input(shape=(max_len,))\n",
    "x = Embedding(max_words, embedding_dim)(inputs)\n",
    "x = Bidirectional(LSTM(32, return_sequences=True))(x)\n",
    "x = Dropout(0.5)(x)\n",
    "x = SelfAttention(64)(x)\n",
    "x = Dense(64, activation='relu', kernel_regularizer='l2')(x)\n",
    "x = Dropout(0.5)(x)\n",
    "outputs = Dense(1, activation='sigmoid')(x)\n",
    "\n",
    "model = Model(inputs=inputs, outputs=outputs)\n",
    "model.compile(optimizer='adam', loss='binary_crossentropy', metrics=['accuracy', tf.keras.metrics.AUC(name='auc')])\n",
    "model.summary()"
   ]
  },
  {
   "cell_type": "markdown",
   "id": "43ba14c0-7895-4cd8-b438-da7c337d8b31",
   "metadata": {},
   "source": [
    "## Treinamento do modelo\n",
    "\n",
    "Este trecho de código configura e executa o processo de treinamento de um modelo Keras previamente definido (`model`). Inicialmente, são estabelecidos os parâmetros `batch_size` (tamanho do lote) como 32 e `epochs` (número de épocas) como 5. Em seguida, uma lista de `callbacks` é criada para monitorar e controlar o treinamento: `tf.keras.callbacks.EarlyStopping` é configurado para interromper o treinamento se não houver melhoria na métrica monitorada (por padrão, a perda de validação) por 2 épocas consecutivas (`patience=2`), restaurando os pesos do modelo correspondentes à melhor performance (`restore_best_weights=True`); e `tf.keras.callbacks.ReduceLROnPlateau` é configurado para reduzir a taxa de aprendizado pela metade (`factor=0.5`) se não houver melhoria por 1 época (`patience=1`). Finalmente, o método `model.fit()` é chamado para treinar o modelo, utilizando os dados de treinamento `X_train` e `y_train`. Durante o treinamento, 20% dos dados de treinamento (`validation_split=0.2`) são reservados para validação, o `batch_size` e `epochs` definidos são utilizados, e os `callbacks` configurados são aplicados. O histórico do processo de treinamento, contendo métricas como perda e acurácia por época, é armazenado na variável `history`."
   ]
  },
  {
   "cell_type": "code",
   "execution_count": 13,
   "id": "1f251c31-e23b-4f39-ba1f-0c59901c2dd2",
   "metadata": {},
   "outputs": [
    {
     "name": "stdout",
     "output_type": "stream",
     "text": [
      "Epoch 1/5\n",
      "\u001b[1m898/898\u001b[0m \u001b[32m━━━━━━━━━━━━━━━━━━━━\u001b[0m\u001b[37m\u001b[0m \u001b[1m89s\u001b[0m 95ms/step - accuracy: 0.8763 - auc: 0.9381 - loss: 0.4540 - val_accuracy: 0.9848 - val_auc: 0.9974 - val_loss: 0.0707 - learning_rate: 0.0010\n",
      "Epoch 2/5\n",
      "\u001b[1m898/898\u001b[0m \u001b[32m━━━━━━━━━━━━━━━━━━━━\u001b[0m\u001b[37m\u001b[0m \u001b[1m93s\u001b[0m 103ms/step - accuracy: 0.9876 - auc: 0.9981 - loss: 0.0552 - val_accuracy: 0.9857 - val_auc: 0.9984 - val_loss: 0.0521 - learning_rate: 0.0010\n",
      "Epoch 3/5\n",
      "\u001b[1m898/898\u001b[0m \u001b[32m━━━━━━━━━━━━━━━━━━━━\u001b[0m\u001b[37m\u001b[0m \u001b[1m90s\u001b[0m 100ms/step - accuracy: 0.9938 - auc: 0.9993 - loss: 0.0301 - val_accuracy: 0.9894 - val_auc: 0.9974 - val_loss: 0.0468 - learning_rate: 0.0010\n",
      "Epoch 4/5\n",
      "\u001b[1m898/898\u001b[0m \u001b[32m━━━━━━━━━━━━━━━━━━━━\u001b[0m\u001b[37m\u001b[0m \u001b[1m83s\u001b[0m 92ms/step - accuracy: 0.9968 - auc: 0.9998 - loss: 0.0185 - val_accuracy: 0.9914 - val_auc: 0.9979 - val_loss: 0.0398 - learning_rate: 0.0010\n",
      "Epoch 5/5\n",
      "\u001b[1m898/898\u001b[0m \u001b[32m━━━━━━━━━━━━━━━━━━━━\u001b[0m\u001b[37m\u001b[0m \u001b[1m82s\u001b[0m 91ms/step - accuracy: 0.9967 - auc: 0.9998 - loss: 0.0161 - val_accuracy: 0.9884 - val_auc: 0.9966 - val_loss: 0.0476 - learning_rate: 0.0010\n"
     ]
    }
   ],
   "source": [
    "batch_size = 32\n",
    "epochs = 5\n",
    "\n",
    "callbacks = [\n",
    "    tf.keras.callbacks.EarlyStopping(patience=2, restore_best_weights=True),\n",
    "    tf.keras.callbacks.ReduceLROnPlateau(factor=0.5, patience=1)\n",
    "]\n",
    "history = model.fit(\n",
    "    X_train,\n",
    "    y_train,\n",
    "    validation_split=0.2,\n",
    "    batch_size=batch_size,\n",
    "    epochs=epochs,\n",
    "    callbacks=callbacks\n",
    ")"
   ]
  },
  {
   "cell_type": "markdown",
   "id": "a27171fa-1a2d-40c0-ad7b-a82bfa024f79",
   "metadata": {},
   "source": [
    "## Visualização de resultados\n",
    "\n",
    "Este trecho de código realiza a visualização do histórico de treinamento, a avaliação do desempenho do modelo treinado no conjunto de teste e a apresentação de métricas detalhadas. Primeiramente, são gerados dois gráficos de linha utilizando `plotly.express` para visualizar a evolução da perda (`loss` e `val_loss`) e da métrica AUC (`auc` e `val_auc`) ao longo das épocas de treinamento, com base nos dados armazenados em `history.history`. Em seguida, o modelo faz previsões no conjunto de teste `X_test`; essas previsões, que são probabilidades, são convertidas para classes binárias (0 ou 1) com um limiar de 0.5. Uma matriz de confusão é calculada usando `confusion_matrix` comparando os rótulos verdadeiros `y_test` com as previsões `y_pred`, e esta matriz é visualizada graficamente com `ConfusionMatrixDisplay` e `matplotlib.pyplot`, exibindo os resultados com o título 'Matriz de Confusão'. Posteriormente, um `classification_report` é impresso, fornecendo métricas como precisão, recall e F1-score para cada classe ('Fake', 'True'). Finalmente, o modelo é avaliado diretamente no conjunto de teste `X_test` e `y_test` através do método `model.evaluate()`, e a precisão e AUC resultantes dessa avaliação são impressas formatadas."
   ]
  },
  {
   "cell_type": "code",
   "execution_count": 14,
   "id": "36f62a24-e38f-4888-b597-8f21e329ee15",
   "metadata": {},
   "outputs": [
    {
     "data": {
      "application/vnd.plotly.v1+json": {
       "config": {
        "plotlyServerURL": "https://plot.ly"
       },
       "data": [
        {
         "hovertemplate": "variable=loss<br>index=%{x}<br>value=%{y}<extra></extra>",
         "legendgroup": "loss",
         "line": {
          "color": "#636efa",
          "dash": "solid"
         },
         "marker": {
          "symbol": "circle"
         },
         "mode": "lines",
         "name": "loss",
         "orientation": "v",
         "showlegend": true,
         "type": "scatter",
         "x": {
          "bdata": "AAECAwQ=",
          "dtype": "i1"
         },
         "xaxis": "x",
         "y": {
          "bdata": "AAAAoPfkzD8AAADggzevPwAAAOAxQp8/AAAAwJyIlD8AAADAQ1OWPw==",
          "dtype": "f8"
         },
         "yaxis": "y"
        },
        {
         "hovertemplate": "variable=val_loss<br>index=%{x}<br>value=%{y}<extra></extra>",
         "legendgroup": "val_loss",
         "line": {
          "color": "#EF553B",
          "dash": "solid"
         },
         "marker": {
          "symbol": "circle"
         },
         "mode": "lines",
         "name": "val_loss",
         "orientation": "v",
         "showlegend": true,
         "type": "scatter",
         "x": {
          "bdata": "AAECAwQ=",
          "dtype": "i1"
         },
         "xaxis": "x",
         "y": {
          "bdata": "AAAA4HoWsj8AAAAA3K6qPwAAAECo+qc/AAAAQAthpD8AAAAAzl6oPw==",
          "dtype": "f8"
         },
         "yaxis": "y"
        }
       ],
       "layout": {
        "legend": {
         "title": {
          "text": "variable"
         },
         "tracegroupgap": 0
        },
        "template": {
         "data": {
          "bar": [
           {
            "error_x": {
             "color": "#2a3f5f"
            },
            "error_y": {
             "color": "#2a3f5f"
            },
            "marker": {
             "line": {
              "color": "#E5ECF6",
              "width": 0.5
             },
             "pattern": {
              "fillmode": "overlay",
              "size": 10,
              "solidity": 0.2
             }
            },
            "type": "bar"
           }
          ],
          "barpolar": [
           {
            "marker": {
             "line": {
              "color": "#E5ECF6",
              "width": 0.5
             },
             "pattern": {
              "fillmode": "overlay",
              "size": 10,
              "solidity": 0.2
             }
            },
            "type": "barpolar"
           }
          ],
          "carpet": [
           {
            "aaxis": {
             "endlinecolor": "#2a3f5f",
             "gridcolor": "white",
             "linecolor": "white",
             "minorgridcolor": "white",
             "startlinecolor": "#2a3f5f"
            },
            "baxis": {
             "endlinecolor": "#2a3f5f",
             "gridcolor": "white",
             "linecolor": "white",
             "minorgridcolor": "white",
             "startlinecolor": "#2a3f5f"
            },
            "type": "carpet"
           }
          ],
          "choropleth": [
           {
            "colorbar": {
             "outlinewidth": 0,
             "ticks": ""
            },
            "type": "choropleth"
           }
          ],
          "contour": [
           {
            "colorbar": {
             "outlinewidth": 0,
             "ticks": ""
            },
            "colorscale": [
             [
              0,
              "#0d0887"
             ],
             [
              0.1111111111111111,
              "#46039f"
             ],
             [
              0.2222222222222222,
              "#7201a8"
             ],
             [
              0.3333333333333333,
              "#9c179e"
             ],
             [
              0.4444444444444444,
              "#bd3786"
             ],
             [
              0.5555555555555556,
              "#d8576b"
             ],
             [
              0.6666666666666666,
              "#ed7953"
             ],
             [
              0.7777777777777778,
              "#fb9f3a"
             ],
             [
              0.8888888888888888,
              "#fdca26"
             ],
             [
              1,
              "#f0f921"
             ]
            ],
            "type": "contour"
           }
          ],
          "contourcarpet": [
           {
            "colorbar": {
             "outlinewidth": 0,
             "ticks": ""
            },
            "type": "contourcarpet"
           }
          ],
          "heatmap": [
           {
            "colorbar": {
             "outlinewidth": 0,
             "ticks": ""
            },
            "colorscale": [
             [
              0,
              "#0d0887"
             ],
             [
              0.1111111111111111,
              "#46039f"
             ],
             [
              0.2222222222222222,
              "#7201a8"
             ],
             [
              0.3333333333333333,
              "#9c179e"
             ],
             [
              0.4444444444444444,
              "#bd3786"
             ],
             [
              0.5555555555555556,
              "#d8576b"
             ],
             [
              0.6666666666666666,
              "#ed7953"
             ],
             [
              0.7777777777777778,
              "#fb9f3a"
             ],
             [
              0.8888888888888888,
              "#fdca26"
             ],
             [
              1,
              "#f0f921"
             ]
            ],
            "type": "heatmap"
           }
          ],
          "histogram": [
           {
            "marker": {
             "pattern": {
              "fillmode": "overlay",
              "size": 10,
              "solidity": 0.2
             }
            },
            "type": "histogram"
           }
          ],
          "histogram2d": [
           {
            "colorbar": {
             "outlinewidth": 0,
             "ticks": ""
            },
            "colorscale": [
             [
              0,
              "#0d0887"
             ],
             [
              0.1111111111111111,
              "#46039f"
             ],
             [
              0.2222222222222222,
              "#7201a8"
             ],
             [
              0.3333333333333333,
              "#9c179e"
             ],
             [
              0.4444444444444444,
              "#bd3786"
             ],
             [
              0.5555555555555556,
              "#d8576b"
             ],
             [
              0.6666666666666666,
              "#ed7953"
             ],
             [
              0.7777777777777778,
              "#fb9f3a"
             ],
             [
              0.8888888888888888,
              "#fdca26"
             ],
             [
              1,
              "#f0f921"
             ]
            ],
            "type": "histogram2d"
           }
          ],
          "histogram2dcontour": [
           {
            "colorbar": {
             "outlinewidth": 0,
             "ticks": ""
            },
            "colorscale": [
             [
              0,
              "#0d0887"
             ],
             [
              0.1111111111111111,
              "#46039f"
             ],
             [
              0.2222222222222222,
              "#7201a8"
             ],
             [
              0.3333333333333333,
              "#9c179e"
             ],
             [
              0.4444444444444444,
              "#bd3786"
             ],
             [
              0.5555555555555556,
              "#d8576b"
             ],
             [
              0.6666666666666666,
              "#ed7953"
             ],
             [
              0.7777777777777778,
              "#fb9f3a"
             ],
             [
              0.8888888888888888,
              "#fdca26"
             ],
             [
              1,
              "#f0f921"
             ]
            ],
            "type": "histogram2dcontour"
           }
          ],
          "mesh3d": [
           {
            "colorbar": {
             "outlinewidth": 0,
             "ticks": ""
            },
            "type": "mesh3d"
           }
          ],
          "parcoords": [
           {
            "line": {
             "colorbar": {
              "outlinewidth": 0,
              "ticks": ""
             }
            },
            "type": "parcoords"
           }
          ],
          "pie": [
           {
            "automargin": true,
            "type": "pie"
           }
          ],
          "scatter": [
           {
            "fillpattern": {
             "fillmode": "overlay",
             "size": 10,
             "solidity": 0.2
            },
            "type": "scatter"
           }
          ],
          "scatter3d": [
           {
            "line": {
             "colorbar": {
              "outlinewidth": 0,
              "ticks": ""
             }
            },
            "marker": {
             "colorbar": {
              "outlinewidth": 0,
              "ticks": ""
             }
            },
            "type": "scatter3d"
           }
          ],
          "scattercarpet": [
           {
            "marker": {
             "colorbar": {
              "outlinewidth": 0,
              "ticks": ""
             }
            },
            "type": "scattercarpet"
           }
          ],
          "scattergeo": [
           {
            "marker": {
             "colorbar": {
              "outlinewidth": 0,
              "ticks": ""
             }
            },
            "type": "scattergeo"
           }
          ],
          "scattergl": [
           {
            "marker": {
             "colorbar": {
              "outlinewidth": 0,
              "ticks": ""
             }
            },
            "type": "scattergl"
           }
          ],
          "scattermap": [
           {
            "marker": {
             "colorbar": {
              "outlinewidth": 0,
              "ticks": ""
             }
            },
            "type": "scattermap"
           }
          ],
          "scattermapbox": [
           {
            "marker": {
             "colorbar": {
              "outlinewidth": 0,
              "ticks": ""
             }
            },
            "type": "scattermapbox"
           }
          ],
          "scatterpolar": [
           {
            "marker": {
             "colorbar": {
              "outlinewidth": 0,
              "ticks": ""
             }
            },
            "type": "scatterpolar"
           }
          ],
          "scatterpolargl": [
           {
            "marker": {
             "colorbar": {
              "outlinewidth": 0,
              "ticks": ""
             }
            },
            "type": "scatterpolargl"
           }
          ],
          "scatterternary": [
           {
            "marker": {
             "colorbar": {
              "outlinewidth": 0,
              "ticks": ""
             }
            },
            "type": "scatterternary"
           }
          ],
          "surface": [
           {
            "colorbar": {
             "outlinewidth": 0,
             "ticks": ""
            },
            "colorscale": [
             [
              0,
              "#0d0887"
             ],
             [
              0.1111111111111111,
              "#46039f"
             ],
             [
              0.2222222222222222,
              "#7201a8"
             ],
             [
              0.3333333333333333,
              "#9c179e"
             ],
             [
              0.4444444444444444,
              "#bd3786"
             ],
             [
              0.5555555555555556,
              "#d8576b"
             ],
             [
              0.6666666666666666,
              "#ed7953"
             ],
             [
              0.7777777777777778,
              "#fb9f3a"
             ],
             [
              0.8888888888888888,
              "#fdca26"
             ],
             [
              1,
              "#f0f921"
             ]
            ],
            "type": "surface"
           }
          ],
          "table": [
           {
            "cells": {
             "fill": {
              "color": "#EBF0F8"
             },
             "line": {
              "color": "white"
             }
            },
            "header": {
             "fill": {
              "color": "#C8D4E3"
             },
             "line": {
              "color": "white"
             }
            },
            "type": "table"
           }
          ]
         },
         "layout": {
          "annotationdefaults": {
           "arrowcolor": "#2a3f5f",
           "arrowhead": 0,
           "arrowwidth": 1
          },
          "autotypenumbers": "strict",
          "coloraxis": {
           "colorbar": {
            "outlinewidth": 0,
            "ticks": ""
           }
          },
          "colorscale": {
           "diverging": [
            [
             0,
             "#8e0152"
            ],
            [
             0.1,
             "#c51b7d"
            ],
            [
             0.2,
             "#de77ae"
            ],
            [
             0.3,
             "#f1b6da"
            ],
            [
             0.4,
             "#fde0ef"
            ],
            [
             0.5,
             "#f7f7f7"
            ],
            [
             0.6,
             "#e6f5d0"
            ],
            [
             0.7,
             "#b8e186"
            ],
            [
             0.8,
             "#7fbc41"
            ],
            [
             0.9,
             "#4d9221"
            ],
            [
             1,
             "#276419"
            ]
           ],
           "sequential": [
            [
             0,
             "#0d0887"
            ],
            [
             0.1111111111111111,
             "#46039f"
            ],
            [
             0.2222222222222222,
             "#7201a8"
            ],
            [
             0.3333333333333333,
             "#9c179e"
            ],
            [
             0.4444444444444444,
             "#bd3786"
            ],
            [
             0.5555555555555556,
             "#d8576b"
            ],
            [
             0.6666666666666666,
             "#ed7953"
            ],
            [
             0.7777777777777778,
             "#fb9f3a"
            ],
            [
             0.8888888888888888,
             "#fdca26"
            ],
            [
             1,
             "#f0f921"
            ]
           ],
           "sequentialminus": [
            [
             0,
             "#0d0887"
            ],
            [
             0.1111111111111111,
             "#46039f"
            ],
            [
             0.2222222222222222,
             "#7201a8"
            ],
            [
             0.3333333333333333,
             "#9c179e"
            ],
            [
             0.4444444444444444,
             "#bd3786"
            ],
            [
             0.5555555555555556,
             "#d8576b"
            ],
            [
             0.6666666666666666,
             "#ed7953"
            ],
            [
             0.7777777777777778,
             "#fb9f3a"
            ],
            [
             0.8888888888888888,
             "#fdca26"
            ],
            [
             1,
             "#f0f921"
            ]
           ]
          },
          "colorway": [
           "#636efa",
           "#EF553B",
           "#00cc96",
           "#ab63fa",
           "#FFA15A",
           "#19d3f3",
           "#FF6692",
           "#B6E880",
           "#FF97FF",
           "#FECB52"
          ],
          "font": {
           "color": "#2a3f5f"
          },
          "geo": {
           "bgcolor": "white",
           "lakecolor": "white",
           "landcolor": "#E5ECF6",
           "showlakes": true,
           "showland": true,
           "subunitcolor": "white"
          },
          "hoverlabel": {
           "align": "left"
          },
          "hovermode": "closest",
          "mapbox": {
           "style": "light"
          },
          "paper_bgcolor": "white",
          "plot_bgcolor": "#E5ECF6",
          "polar": {
           "angularaxis": {
            "gridcolor": "white",
            "linecolor": "white",
            "ticks": ""
           },
           "bgcolor": "#E5ECF6",
           "radialaxis": {
            "gridcolor": "white",
            "linecolor": "white",
            "ticks": ""
           }
          },
          "scene": {
           "xaxis": {
            "backgroundcolor": "#E5ECF6",
            "gridcolor": "white",
            "gridwidth": 2,
            "linecolor": "white",
            "showbackground": true,
            "ticks": "",
            "zerolinecolor": "white"
           },
           "yaxis": {
            "backgroundcolor": "#E5ECF6",
            "gridcolor": "white",
            "gridwidth": 2,
            "linecolor": "white",
            "showbackground": true,
            "ticks": "",
            "zerolinecolor": "white"
           },
           "zaxis": {
            "backgroundcolor": "#E5ECF6",
            "gridcolor": "white",
            "gridwidth": 2,
            "linecolor": "white",
            "showbackground": true,
            "ticks": "",
            "zerolinecolor": "white"
           }
          },
          "shapedefaults": {
           "line": {
            "color": "#2a3f5f"
           }
          },
          "ternary": {
           "aaxis": {
            "gridcolor": "white",
            "linecolor": "white",
            "ticks": ""
           },
           "baxis": {
            "gridcolor": "white",
            "linecolor": "white",
            "ticks": ""
           },
           "bgcolor": "#E5ECF6",
           "caxis": {
            "gridcolor": "white",
            "linecolor": "white",
            "ticks": ""
           }
          },
          "title": {
           "x": 0.05
          },
          "xaxis": {
           "automargin": true,
           "gridcolor": "white",
           "linecolor": "white",
           "ticks": "",
           "title": {
            "standoff": 15
           },
           "zerolinecolor": "white",
           "zerolinewidth": 2
          },
          "yaxis": {
           "automargin": true,
           "gridcolor": "white",
           "linecolor": "white",
           "ticks": "",
           "title": {
            "standoff": 15
           },
           "zerolinecolor": "white",
           "zerolinewidth": 2
          }
         }
        },
        "title": {
         "text": "Loss Over Time"
        },
        "xaxis": {
         "anchor": "y",
         "domain": [
          0,
          1
         ],
         "title": {
          "text": "index"
         }
        },
        "yaxis": {
         "anchor": "x",
         "domain": [
          0,
          1
         ],
         "title": {
          "text": "value"
         }
        }
       }
      }
     },
     "metadata": {},
     "output_type": "display_data"
    },
    {
     "data": {
      "application/vnd.plotly.v1+json": {
       "config": {
        "plotlyServerURL": "https://plot.ly"
       },
       "data": [
        {
         "hovertemplate": "variable=auc<br>index=%{x}<br>value=%{y}<extra></extra>",
         "legendgroup": "auc",
         "line": {
          "color": "#636efa",
          "dash": "solid"
         },
         "marker": {
          "symbol": "circle"
         },
         "mode": "lines",
         "name": "auc",
         "orientation": "v",
         "showlegend": true,
         "type": "scatter",
         "x": {
          "bdata": "AAECAwQ=",
          "dtype": "i1"
         },
         "xaxis": "x",
         "y": {
          "bdata": "AAAAwJKH7z8AAAAgTuzvPwAAAKBi+u8/AAAAAMf87z8AAAAgVvzvPw==",
          "dtype": "f8"
         },
         "yaxis": "y"
        },
        {
         "hovertemplate": "variable=val_auc<br>index=%{x}<br>value=%{y}<extra></extra>",
         "legendgroup": "val_auc",
         "line": {
          "color": "#EF553B",
          "dash": "solid"
         },
         "marker": {
          "symbol": "circle"
         },
         "mode": "lines",
         "name": "val_auc",
         "orientation": "v",
         "showlegend": true,
         "type": "scatter",
         "x": {
          "bdata": "AAECAwQ=",
          "dtype": "i1"
         },
         "xaxis": "x",
         "y": {
          "bdata": "AAAAgKHq7z8AAAAgSPPvPwAAAIBP6u8/AAAAQPDu7z8AAADgGuTvPw==",
          "dtype": "f8"
         },
         "yaxis": "y"
        }
       ],
       "layout": {
        "legend": {
         "title": {
          "text": "variable"
         },
         "tracegroupgap": 0
        },
        "template": {
         "data": {
          "bar": [
           {
            "error_x": {
             "color": "#2a3f5f"
            },
            "error_y": {
             "color": "#2a3f5f"
            },
            "marker": {
             "line": {
              "color": "#E5ECF6",
              "width": 0.5
             },
             "pattern": {
              "fillmode": "overlay",
              "size": 10,
              "solidity": 0.2
             }
            },
            "type": "bar"
           }
          ],
          "barpolar": [
           {
            "marker": {
             "line": {
              "color": "#E5ECF6",
              "width": 0.5
             },
             "pattern": {
              "fillmode": "overlay",
              "size": 10,
              "solidity": 0.2
             }
            },
            "type": "barpolar"
           }
          ],
          "carpet": [
           {
            "aaxis": {
             "endlinecolor": "#2a3f5f",
             "gridcolor": "white",
             "linecolor": "white",
             "minorgridcolor": "white",
             "startlinecolor": "#2a3f5f"
            },
            "baxis": {
             "endlinecolor": "#2a3f5f",
             "gridcolor": "white",
             "linecolor": "white",
             "minorgridcolor": "white",
             "startlinecolor": "#2a3f5f"
            },
            "type": "carpet"
           }
          ],
          "choropleth": [
           {
            "colorbar": {
             "outlinewidth": 0,
             "ticks": ""
            },
            "type": "choropleth"
           }
          ],
          "contour": [
           {
            "colorbar": {
             "outlinewidth": 0,
             "ticks": ""
            },
            "colorscale": [
             [
              0,
              "#0d0887"
             ],
             [
              0.1111111111111111,
              "#46039f"
             ],
             [
              0.2222222222222222,
              "#7201a8"
             ],
             [
              0.3333333333333333,
              "#9c179e"
             ],
             [
              0.4444444444444444,
              "#bd3786"
             ],
             [
              0.5555555555555556,
              "#d8576b"
             ],
             [
              0.6666666666666666,
              "#ed7953"
             ],
             [
              0.7777777777777778,
              "#fb9f3a"
             ],
             [
              0.8888888888888888,
              "#fdca26"
             ],
             [
              1,
              "#f0f921"
             ]
            ],
            "type": "contour"
           }
          ],
          "contourcarpet": [
           {
            "colorbar": {
             "outlinewidth": 0,
             "ticks": ""
            },
            "type": "contourcarpet"
           }
          ],
          "heatmap": [
           {
            "colorbar": {
             "outlinewidth": 0,
             "ticks": ""
            },
            "colorscale": [
             [
              0,
              "#0d0887"
             ],
             [
              0.1111111111111111,
              "#46039f"
             ],
             [
              0.2222222222222222,
              "#7201a8"
             ],
             [
              0.3333333333333333,
              "#9c179e"
             ],
             [
              0.4444444444444444,
              "#bd3786"
             ],
             [
              0.5555555555555556,
              "#d8576b"
             ],
             [
              0.6666666666666666,
              "#ed7953"
             ],
             [
              0.7777777777777778,
              "#fb9f3a"
             ],
             [
              0.8888888888888888,
              "#fdca26"
             ],
             [
              1,
              "#f0f921"
             ]
            ],
            "type": "heatmap"
           }
          ],
          "histogram": [
           {
            "marker": {
             "pattern": {
              "fillmode": "overlay",
              "size": 10,
              "solidity": 0.2
             }
            },
            "type": "histogram"
           }
          ],
          "histogram2d": [
           {
            "colorbar": {
             "outlinewidth": 0,
             "ticks": ""
            },
            "colorscale": [
             [
              0,
              "#0d0887"
             ],
             [
              0.1111111111111111,
              "#46039f"
             ],
             [
              0.2222222222222222,
              "#7201a8"
             ],
             [
              0.3333333333333333,
              "#9c179e"
             ],
             [
              0.4444444444444444,
              "#bd3786"
             ],
             [
              0.5555555555555556,
              "#d8576b"
             ],
             [
              0.6666666666666666,
              "#ed7953"
             ],
             [
              0.7777777777777778,
              "#fb9f3a"
             ],
             [
              0.8888888888888888,
              "#fdca26"
             ],
             [
              1,
              "#f0f921"
             ]
            ],
            "type": "histogram2d"
           }
          ],
          "histogram2dcontour": [
           {
            "colorbar": {
             "outlinewidth": 0,
             "ticks": ""
            },
            "colorscale": [
             [
              0,
              "#0d0887"
             ],
             [
              0.1111111111111111,
              "#46039f"
             ],
             [
              0.2222222222222222,
              "#7201a8"
             ],
             [
              0.3333333333333333,
              "#9c179e"
             ],
             [
              0.4444444444444444,
              "#bd3786"
             ],
             [
              0.5555555555555556,
              "#d8576b"
             ],
             [
              0.6666666666666666,
              "#ed7953"
             ],
             [
              0.7777777777777778,
              "#fb9f3a"
             ],
             [
              0.8888888888888888,
              "#fdca26"
             ],
             [
              1,
              "#f0f921"
             ]
            ],
            "type": "histogram2dcontour"
           }
          ],
          "mesh3d": [
           {
            "colorbar": {
             "outlinewidth": 0,
             "ticks": ""
            },
            "type": "mesh3d"
           }
          ],
          "parcoords": [
           {
            "line": {
             "colorbar": {
              "outlinewidth": 0,
              "ticks": ""
             }
            },
            "type": "parcoords"
           }
          ],
          "pie": [
           {
            "automargin": true,
            "type": "pie"
           }
          ],
          "scatter": [
           {
            "fillpattern": {
             "fillmode": "overlay",
             "size": 10,
             "solidity": 0.2
            },
            "type": "scatter"
           }
          ],
          "scatter3d": [
           {
            "line": {
             "colorbar": {
              "outlinewidth": 0,
              "ticks": ""
             }
            },
            "marker": {
             "colorbar": {
              "outlinewidth": 0,
              "ticks": ""
             }
            },
            "type": "scatter3d"
           }
          ],
          "scattercarpet": [
           {
            "marker": {
             "colorbar": {
              "outlinewidth": 0,
              "ticks": ""
             }
            },
            "type": "scattercarpet"
           }
          ],
          "scattergeo": [
           {
            "marker": {
             "colorbar": {
              "outlinewidth": 0,
              "ticks": ""
             }
            },
            "type": "scattergeo"
           }
          ],
          "scattergl": [
           {
            "marker": {
             "colorbar": {
              "outlinewidth": 0,
              "ticks": ""
             }
            },
            "type": "scattergl"
           }
          ],
          "scattermap": [
           {
            "marker": {
             "colorbar": {
              "outlinewidth": 0,
              "ticks": ""
             }
            },
            "type": "scattermap"
           }
          ],
          "scattermapbox": [
           {
            "marker": {
             "colorbar": {
              "outlinewidth": 0,
              "ticks": ""
             }
            },
            "type": "scattermapbox"
           }
          ],
          "scatterpolar": [
           {
            "marker": {
             "colorbar": {
              "outlinewidth": 0,
              "ticks": ""
             }
            },
            "type": "scatterpolar"
           }
          ],
          "scatterpolargl": [
           {
            "marker": {
             "colorbar": {
              "outlinewidth": 0,
              "ticks": ""
             }
            },
            "type": "scatterpolargl"
           }
          ],
          "scatterternary": [
           {
            "marker": {
             "colorbar": {
              "outlinewidth": 0,
              "ticks": ""
             }
            },
            "type": "scatterternary"
           }
          ],
          "surface": [
           {
            "colorbar": {
             "outlinewidth": 0,
             "ticks": ""
            },
            "colorscale": [
             [
              0,
              "#0d0887"
             ],
             [
              0.1111111111111111,
              "#46039f"
             ],
             [
              0.2222222222222222,
              "#7201a8"
             ],
             [
              0.3333333333333333,
              "#9c179e"
             ],
             [
              0.4444444444444444,
              "#bd3786"
             ],
             [
              0.5555555555555556,
              "#d8576b"
             ],
             [
              0.6666666666666666,
              "#ed7953"
             ],
             [
              0.7777777777777778,
              "#fb9f3a"
             ],
             [
              0.8888888888888888,
              "#fdca26"
             ],
             [
              1,
              "#f0f921"
             ]
            ],
            "type": "surface"
           }
          ],
          "table": [
           {
            "cells": {
             "fill": {
              "color": "#EBF0F8"
             },
             "line": {
              "color": "white"
             }
            },
            "header": {
             "fill": {
              "color": "#C8D4E3"
             },
             "line": {
              "color": "white"
             }
            },
            "type": "table"
           }
          ]
         },
         "layout": {
          "annotationdefaults": {
           "arrowcolor": "#2a3f5f",
           "arrowhead": 0,
           "arrowwidth": 1
          },
          "autotypenumbers": "strict",
          "coloraxis": {
           "colorbar": {
            "outlinewidth": 0,
            "ticks": ""
           }
          },
          "colorscale": {
           "diverging": [
            [
             0,
             "#8e0152"
            ],
            [
             0.1,
             "#c51b7d"
            ],
            [
             0.2,
             "#de77ae"
            ],
            [
             0.3,
             "#f1b6da"
            ],
            [
             0.4,
             "#fde0ef"
            ],
            [
             0.5,
             "#f7f7f7"
            ],
            [
             0.6,
             "#e6f5d0"
            ],
            [
             0.7,
             "#b8e186"
            ],
            [
             0.8,
             "#7fbc41"
            ],
            [
             0.9,
             "#4d9221"
            ],
            [
             1,
             "#276419"
            ]
           ],
           "sequential": [
            [
             0,
             "#0d0887"
            ],
            [
             0.1111111111111111,
             "#46039f"
            ],
            [
             0.2222222222222222,
             "#7201a8"
            ],
            [
             0.3333333333333333,
             "#9c179e"
            ],
            [
             0.4444444444444444,
             "#bd3786"
            ],
            [
             0.5555555555555556,
             "#d8576b"
            ],
            [
             0.6666666666666666,
             "#ed7953"
            ],
            [
             0.7777777777777778,
             "#fb9f3a"
            ],
            [
             0.8888888888888888,
             "#fdca26"
            ],
            [
             1,
             "#f0f921"
            ]
           ],
           "sequentialminus": [
            [
             0,
             "#0d0887"
            ],
            [
             0.1111111111111111,
             "#46039f"
            ],
            [
             0.2222222222222222,
             "#7201a8"
            ],
            [
             0.3333333333333333,
             "#9c179e"
            ],
            [
             0.4444444444444444,
             "#bd3786"
            ],
            [
             0.5555555555555556,
             "#d8576b"
            ],
            [
             0.6666666666666666,
             "#ed7953"
            ],
            [
             0.7777777777777778,
             "#fb9f3a"
            ],
            [
             0.8888888888888888,
             "#fdca26"
            ],
            [
             1,
             "#f0f921"
            ]
           ]
          },
          "colorway": [
           "#636efa",
           "#EF553B",
           "#00cc96",
           "#ab63fa",
           "#FFA15A",
           "#19d3f3",
           "#FF6692",
           "#B6E880",
           "#FF97FF",
           "#FECB52"
          ],
          "font": {
           "color": "#2a3f5f"
          },
          "geo": {
           "bgcolor": "white",
           "lakecolor": "white",
           "landcolor": "#E5ECF6",
           "showlakes": true,
           "showland": true,
           "subunitcolor": "white"
          },
          "hoverlabel": {
           "align": "left"
          },
          "hovermode": "closest",
          "mapbox": {
           "style": "light"
          },
          "paper_bgcolor": "white",
          "plot_bgcolor": "#E5ECF6",
          "polar": {
           "angularaxis": {
            "gridcolor": "white",
            "linecolor": "white",
            "ticks": ""
           },
           "bgcolor": "#E5ECF6",
           "radialaxis": {
            "gridcolor": "white",
            "linecolor": "white",
            "ticks": ""
           }
          },
          "scene": {
           "xaxis": {
            "backgroundcolor": "#E5ECF6",
            "gridcolor": "white",
            "gridwidth": 2,
            "linecolor": "white",
            "showbackground": true,
            "ticks": "",
            "zerolinecolor": "white"
           },
           "yaxis": {
            "backgroundcolor": "#E5ECF6",
            "gridcolor": "white",
            "gridwidth": 2,
            "linecolor": "white",
            "showbackground": true,
            "ticks": "",
            "zerolinecolor": "white"
           },
           "zaxis": {
            "backgroundcolor": "#E5ECF6",
            "gridcolor": "white",
            "gridwidth": 2,
            "linecolor": "white",
            "showbackground": true,
            "ticks": "",
            "zerolinecolor": "white"
           }
          },
          "shapedefaults": {
           "line": {
            "color": "#2a3f5f"
           }
          },
          "ternary": {
           "aaxis": {
            "gridcolor": "white",
            "linecolor": "white",
            "ticks": ""
           },
           "baxis": {
            "gridcolor": "white",
            "linecolor": "white",
            "ticks": ""
           },
           "bgcolor": "#E5ECF6",
           "caxis": {
            "gridcolor": "white",
            "linecolor": "white",
            "ticks": ""
           }
          },
          "title": {
           "x": 0.05
          },
          "xaxis": {
           "automargin": true,
           "gridcolor": "white",
           "linecolor": "white",
           "ticks": "",
           "title": {
            "standoff": 15
           },
           "zerolinecolor": "white",
           "zerolinewidth": 2
          },
          "yaxis": {
           "automargin": true,
           "gridcolor": "white",
           "linecolor": "white",
           "ticks": "",
           "title": {
            "standoff": 15
           },
           "zerolinecolor": "white",
           "zerolinewidth": 2
          }
         }
        },
        "title": {
         "text": "AUC Over Time"
        },
        "xaxis": {
         "anchor": "y",
         "domain": [
          0,
          1
         ],
         "title": {
          "text": "index"
         }
        },
        "yaxis": {
         "anchor": "x",
         "domain": [
          0,
          1
         ],
         "title": {
          "text": "value"
         }
        }
       }
      }
     },
     "metadata": {},
     "output_type": "display_data"
    },
    {
     "name": "stdout",
     "output_type": "stream",
     "text": [
      "\u001b[1m281/281\u001b[0m \u001b[32m━━━━━━━━━━━━━━━━━━━━\u001b[0m\u001b[37m\u001b[0m \u001b[1m3s\u001b[0m 11ms/step\n"
     ]
    },
    {
     "data": {
      "image/png": "[encoded data removed]",
      "text/plain": [
       "<Figure size 640x480 with 2 Axes>"
      ]
     },
     "metadata": {},
     "output_type": "display_data"
    },
    {
     "name": "stdout",
     "output_type": "stream",
     "text": [
      "Relatório de Classificação:\n",
      "               precision    recall  f1-score   support\n",
      "\n",
      "        Fake       1.00      0.98      0.99      4669\n",
      "        True       0.98      1.00      0.99      4311\n",
      "\n",
      "    accuracy                           0.99      8980\n",
      "   macro avg       0.99      0.99      0.99      8980\n",
      "weighted avg       0.99      0.99      0.99      8980\n",
      "\n",
      "\u001b[1m281/281\u001b[0m \u001b[32m━━━━━━━━━━━━━━━━━━━━\u001b[0m\u001b[37m\u001b[0m \u001b[1m5s\u001b[0m 17ms/step - accuracy: 0.9890 - auc: 0.9977 - loss: 0.0460\n",
      "Precisão no conjunto de teste: 0.9902\n",
      "AUC no conjunto de teste: 0.9980\n"
     ]
    }
   ],
   "source": [
    "fig = px.line(history.history, y=['loss', 'val_loss'], labels={'x': \"Epoch\", 'y': \"Loss\"}, title=\"Loss Over Time\")\n",
    "fig.show()\n",
    "fig = px.line(history.history, y=['auc', 'val_auc'], labels={'x': \"Epoch\", 'y': \"AUC\"}, title=\"AUC Over Time\")\n",
    "fig.show()\n",
    "\n",
    "y_pred = (model.predict(X_test) > 0.5).astype(int)\n",
    "cm = confusion_matrix(y_test, y_pred)\n",
    "disp = ConfusionMatrixDisplay(confusion_matrix=cm, display_labels=['Fake', 'True'])\n",
    "disp.plot(cmap='Blues')\n",
    "plt.title('Matriz de Confusão')\n",
    "plt.show()\n",
    "\n",
    "print(\"Relatório de Classificação:\\n\", classification_report(y_test, y_pred, target_names=['Fake', 'True']))\n",
    "\n",
    "test_results = model.evaluate(X_test, y_test)\n",
    "print(f\"Precisão no conjunto de teste: {test_results[1]:.4f}\")\n",
    "print(f\"AUC no conjunto de teste: {test_results[2]:.4f}\")"
   ]
  },
  {
   "cell_type": "markdown",
   "id": "3421c0ee-2eb7-4e13-926f-26a6f2188890",
   "metadata": {},
   "source": [
    "## Validação cruzada K-Fold\n",
    "\n",
    "Este trecho de código implementa um processo de validação cruzada k-fold para treinar e avaliar um modelo de rede neural para classificação binária. Inicialmente, são definidos parâmetros como o número de folds (`k=5`), épocas de treinamento (`epochs=5`), tamanho do lote (`batch_size=32`), tamanho do vocabulário (`vocab_size=10000`), dimensão da camada de embedding (`embedding_dim=100`) e comprimento máximo da sequência (`max_len=200`). Um objeto `KFold` é configurado para dividir os dados de treinamento em `k` partes, com embaralhamento e um estado aleatório para reprodutibilidade.\n",
    "\n",
    "O código então itera através de cada um dos `k` folds. Em cada iteração (fold), os dados de treinamento (`X_train`, `y_train`) são divididos em conjuntos de treinamento (`X_train_cv`, `y_train_cv`) e validação (`X_val_cv`, `y_val_cv`) específicos para aquele fold. Um novo modelo sequencial do Keras é definido em cada fold, consistindo em uma camada `Embedding`, uma camada `Bidirectional LSTM`, uma camada `Dropout`, uma camada `GlobalAveragePooling1D` (para agregar as características da sequência), uma camada `Dense` com ativação ReLU, outra camada `Dropout`, e finalmente uma camada `Dense` de saída com ativação sigmoide.\n",
    "\n",
    "Este modelo é compilado utilizando o otimizador 'adam', a função de perda 'binary_crossentropy' e a métrica de 'accuracy'. Em seguida, o modelo é treinado com os dados de treinamento do fold atual (`X_train_cv`, `y_train_cv`), utilizando os dados de validação do fold (`X_val_cv`, `y_val_cv`) para monitorar o desempenho. Após o treinamento, são feitas previsões no conjunto de validação do fold, convertidas para rótulos binários, e um relatório de classificação (`classification_report`) é impresso, exibindo métricas como precisão e recall para aquele fold específico. O contador de `fold` é incrementado ao final de cada iteração."
   ]
  },
  {
   "cell_type": "code",
   "execution_count": 15,
   "id": "6b9cbd45",
   "metadata": {},
   "outputs": [
    {
     "name": "stdout",
     "output_type": "stream",
     "text": [
      "Iniciando Validação Cruzada para o modelo LSTM...\n",
      "\n",
      "📘 Fold 1\n",
      "Treinando Fold 1...\n",
      "Epoch 1/5\n",
      "\u001b[1m898/898\u001b[0m \u001b[32m━━━━━━━━━━━━━━━━━━━━\u001b[0m\u001b[37m\u001b[0m \u001b[1m93s\u001b[0m 100ms/step - accuracy: 0.8827 - auc: 0.9456 - loss: 0.2544 - val_accuracy: 0.9726 - val_auc: 0.9958 - val_loss: 0.0836\n",
      "Epoch 2/5\n",
      "\u001b[1m898/898\u001b[0m \u001b[32m━━━━━━━━━━━━━━━━━━━━\u001b[0m\u001b[37m\u001b[0m \u001b[1m90s\u001b[0m 101ms/step - accuracy: 0.9875 - auc: 0.9983 - loss: 0.0401 - val_accuracy: 0.9820 - val_auc: 0.9967 - val_loss: 0.0582\n",
      "Epoch 3/5\n",
      "\u001b[1m898/898\u001b[0m \u001b[32m━━━━━━━━━━━━━━━━━━━━\u001b[0m\u001b[37m\u001b[0m \u001b[1m90s\u001b[0m 100ms/step - accuracy: 0.9928 - auc: 0.9988 - loss: 0.0244 - val_accuracy: 0.9816 - val_auc: 0.9953 - val_loss: 0.0649\n",
      "Epoch 4/5\n",
      "\u001b[1m898/898\u001b[0m \u001b[32m━━━━━━━━━━━━━━━━━━━━\u001b[0m\u001b[37m\u001b[0m \u001b[1m94s\u001b[0m 104ms/step - accuracy: 0.9968 - auc: 0.9998 - loss: 0.0104 - val_accuracy: 0.9832 - val_auc: 0.9945 - val_loss: 0.0679\n",
      "Epoch 5/5\n",
      "\u001b[1m898/898\u001b[0m \u001b[32m━━━━━━━━━━━━━━━━━━━━\u001b[0m\u001b[37m\u001b[0m \u001b[1m91s\u001b[0m 101ms/step - accuracy: 0.9978 - auc: 0.9999 - loss: 0.0072 - val_accuracy: 0.9843 - val_auc: 0.9963 - val_loss: 0.0558\n",
      "\n",
      "Avaliando Fold 1 no conjunto de validação do fold:\n",
      "Fold 1 - Val Loss: 0.0558, Val Accuracy: 0.9843, Val AUC: 0.9963\n",
      "\u001b[1m225/225\u001b[0m \u001b[32m━━━━━━━━━━━━━━━━━━━━\u001b[0m\u001b[37m\u001b[0m \u001b[1m5s\u001b[0m 21ms/step\n",
      "\n",
      "Relatório de Classificação para o Fold 1 (no conjunto de validação do fold):\n",
      "\n",
      "              precision    recall  f1-score   support\n",
      "\n",
      "        Fake       0.98      0.99      0.98      3736\n",
      "        True       0.99      0.98      0.98      3448\n",
      "\n",
      "    accuracy                           0.98      7184\n",
      "   macro avg       0.98      0.98      0.98      7184\n",
      "weighted avg       0.98      0.98      0.98      7184\n",
      "\n",
      "\n",
      "📘 Fold 2\n",
      "Treinando Fold 2...\n",
      "Epoch 1/5\n",
      "\u001b[1m898/898\u001b[0m \u001b[32m━━━━━━━━━━━━━━━━━━━━\u001b[0m\u001b[37m\u001b[0m \u001b[1m94s\u001b[0m 102ms/step - accuracy: 0.8892 - auc: 0.9471 - loss: 0.2461 - val_accuracy: 0.9745 - val_auc: 0.9958 - val_loss: 0.0804\n",
      "Epoch 2/5\n",
      "\u001b[1m898/898\u001b[0m \u001b[32m━━━━━━━━━━━━━━━━━━━━\u001b[0m\u001b[37m\u001b[0m \u001b[1m91s\u001b[0m 102ms/step - accuracy: 0.9857 - auc: 0.9982 - loss: 0.0449 - val_accuracy: 0.9815 - val_auc: 0.9979 - val_loss: 0.0546\n",
      "Epoch 3/5\n",
      "\u001b[1m898/898\u001b[0m \u001b[32m━━━━━━━━━━━━━━━━━━━━\u001b[0m\u001b[37m\u001b[0m \u001b[1m92s\u001b[0m 102ms/step - accuracy: 0.9965 - auc: 0.9996 - loss: 0.0146 - val_accuracy: 0.9812 - val_auc: 0.9954 - val_loss: 0.0657\n",
      "Epoch 4/5\n",
      "\u001b[1m898/898\u001b[0m \u001b[32m━━━━━━━━━━━━━━━━━━━━\u001b[0m\u001b[37m\u001b[0m \u001b[1m94s\u001b[0m 105ms/step - accuracy: 0.9976 - auc: 0.9999 - loss: 0.0080 - val_accuracy: 0.9862 - val_auc: 0.9966 - val_loss: 0.0538\n",
      "Epoch 5/5\n",
      "\u001b[1m898/898\u001b[0m \u001b[32m━━━━━━━━━━━━━━━━━━━━\u001b[0m\u001b[37m\u001b[0m \u001b[1m92s\u001b[0m 103ms/step - accuracy: 0.9984 - auc: 0.9999 - loss: 0.0044 - val_accuracy: 0.9776 - val_auc: 0.9938 - val_loss: 0.0800\n",
      "\n",
      "Avaliando Fold 2 no conjunto de validação do fold:\n",
      "Fold 2 - Val Loss: 0.0800, Val Accuracy: 0.9776, Val AUC: 0.9938\n",
      "\u001b[1m225/225\u001b[0m \u001b[32m━━━━━━━━━━━━━━━━━━━━\u001b[0m\u001b[37m\u001b[0m \u001b[1m5s\u001b[0m 23ms/step\n",
      "\n",
      "Relatório de Classificação para o Fold 2 (no conjunto de validação do fold):\n",
      "\n",
      "              precision    recall  f1-score   support\n",
      "\n",
      "        Fake       0.98      0.97      0.98      3822\n",
      "        True       0.97      0.98      0.98      3362\n",
      "\n",
      "    accuracy                           0.98      7184\n",
      "   macro avg       0.98      0.98      0.98      7184\n",
      "weighted avg       0.98      0.98      0.98      7184\n",
      "\n",
      "\n",
      "📘 Fold 3\n",
      "Treinando Fold 3...\n",
      "Epoch 1/5\n",
      "\u001b[1m898/898\u001b[0m \u001b[32m━━━━━━━━━━━━━━━━━━━━\u001b[0m\u001b[37m\u001b[0m \u001b[1m94s\u001b[0m 102ms/step - accuracy: 0.8800 - auc: 0.9428 - loss: 0.2585 - val_accuracy: 0.9737 - val_auc: 0.9959 - val_loss: 0.0756\n",
      "Epoch 2/5\n",
      "\u001b[1m898/898\u001b[0m \u001b[32m━━━━━━━━━━━━━━━━━━━━\u001b[0m\u001b[37m\u001b[0m \u001b[1m92s\u001b[0m 103ms/step - accuracy: 0.9834 - auc: 0.9978 - loss: 0.0514 - val_accuracy: 0.9762 - val_auc: 0.9965 - val_loss: 0.0682\n",
      "Epoch 3/5\n",
      "\u001b[1m898/898\u001b[0m \u001b[32m━━━━━━━━━━━━━━━━━━━━\u001b[0m\u001b[37m\u001b[0m \u001b[1m92s\u001b[0m 103ms/step - accuracy: 0.9955 - auc: 0.9995 - loss: 0.0164 - val_accuracy: 0.9813 - val_auc: 0.9971 - val_loss: 0.0624\n",
      "Epoch 4/5\n",
      "\u001b[1m898/898\u001b[0m \u001b[32m━━━━━━━━━━━━━━━━━━━━\u001b[0m\u001b[37m\u001b[0m \u001b[1m94s\u001b[0m 105ms/step - accuracy: 0.9976 - auc: 0.9999 - loss: 0.0089 - val_accuracy: 0.9801 - val_auc: 0.9943 - val_loss: 0.0848\n",
      "Epoch 5/5\n",
      "\u001b[1m898/898\u001b[0m \u001b[32m━━━━━━━━━━━━━━━━━━━━\u001b[0m\u001b[37m\u001b[0m \u001b[1m96s\u001b[0m 107ms/step - accuracy: 0.9983 - auc: 1.0000 - loss: 0.0050 - val_accuracy: 0.9836 - val_auc: 0.9939 - val_loss: 0.0741\n",
      "\n",
      "Avaliando Fold 3 no conjunto de validação do fold:\n",
      "Fold 3 - Val Loss: 0.0741, Val Accuracy: 0.9836, Val AUC: 0.9939\n",
      "\u001b[1m225/225\u001b[0m \u001b[32m━━━━━━━━━━━━━━━━━━━━\u001b[0m\u001b[37m\u001b[0m \u001b[1m5s\u001b[0m 22ms/step\n",
      "\n",
      "Relatório de Classificação para o Fold 3 (no conjunto de validação do fold):\n",
      "\n",
      "              precision    recall  f1-score   support\n",
      "\n",
      "        Fake       0.99      0.98      0.98      3746\n",
      "        True       0.98      0.99      0.98      3438\n",
      "\n",
      "    accuracy                           0.98      7184\n",
      "   macro avg       0.98      0.98      0.98      7184\n",
      "weighted avg       0.98      0.98      0.98      7184\n",
      "\n",
      "\n",
      "📘 Fold 4\n",
      "Treinando Fold 4...\n",
      "Epoch 1/5\n",
      "\u001b[1m898/898\u001b[0m \u001b[32m━━━━━━━━━━━━━━━━━━━━\u001b[0m\u001b[37m\u001b[0m \u001b[1m96s\u001b[0m 103ms/step - accuracy: 0.8943 - auc: 0.9529 - loss: 0.2410 - val_accuracy: 0.9800 - val_auc: 0.9954 - val_loss: 0.0662\n",
      "Epoch 2/5\n",
      "\u001b[1m898/898\u001b[0m \u001b[32m━━━━━━━━━━━━━━━━━━━━\u001b[0m\u001b[37m\u001b[0m \u001b[1m93s\u001b[0m 104ms/step - accuracy: 0.9869 - auc: 0.9984 - loss: 0.0404 - val_accuracy: 0.9832 - val_auc: 0.9970 - val_loss: 0.0559\n",
      "Epoch 3/5\n",
      "\u001b[1m898/898\u001b[0m \u001b[32m━━━━━━━━━━━━━━━━━━━━\u001b[0m\u001b[37m\u001b[0m \u001b[1m93s\u001b[0m 104ms/step - accuracy: 0.9946 - auc: 0.9996 - loss: 0.0190 - val_accuracy: 0.9840 - val_auc: 0.9956 - val_loss: 0.0678\n",
      "Epoch 4/5\n",
      "\u001b[1m898/898\u001b[0m \u001b[32m━━━━━━━━━━━━━━━━━━━━\u001b[0m\u001b[37m\u001b[0m \u001b[1m93s\u001b[0m 104ms/step - accuracy: 0.9967 - auc: 0.9997 - loss: 0.0100 - val_accuracy: 0.9843 - val_auc: 0.9956 - val_loss: 0.0628\n",
      "Epoch 5/5\n",
      "\u001b[1m898/898\u001b[0m \u001b[32m━━━━━━━━━━━━━━━━━━━━\u001b[0m\u001b[37m\u001b[0m \u001b[1m106s\u001b[0m 118ms/step - accuracy: 0.9980 - auc: 0.9998 - loss: 0.0072 - val_accuracy: 0.9845 - val_auc: 0.9942 - val_loss: 0.0783\n",
      "\n",
      "Avaliando Fold 4 no conjunto de validação do fold:\n",
      "Fold 4 - Val Loss: 0.0783, Val Accuracy: 0.9845, Val AUC: 0.9942\n",
      "\u001b[1m225/225\u001b[0m \u001b[32m━━━━━━━━━━━━━━━━━━━━\u001b[0m\u001b[37m\u001b[0m \u001b[1m5s\u001b[0m 22ms/step\n",
      "\n",
      "Relatório de Classificação para o Fold 4 (no conjunto de validação do fold):\n",
      "\n",
      "              precision    recall  f1-score   support\n",
      "\n",
      "        Fake       0.98      0.99      0.99      3729\n",
      "        True       0.98      0.98      0.98      3454\n",
      "\n",
      "    accuracy                           0.98      7183\n",
      "   macro avg       0.98      0.98      0.98      7183\n",
      "weighted avg       0.98      0.98      0.98      7183\n",
      "\n",
      "\n",
      "📘 Fold 5\n",
      "Treinando Fold 5...\n",
      "Epoch 1/5\n",
      "\u001b[1m898/898\u001b[0m \u001b[32m━━━━━━━━━━━━━━━━━━━━\u001b[0m\u001b[37m\u001b[0m \u001b[1m100s\u001b[0m 108ms/step - accuracy: 0.8801 - auc: 0.9444 - loss: 0.2519 - val_accuracy: 0.9820 - val_auc: 0.9958 - val_loss: 0.0614\n",
      "Epoch 2/5\n",
      "\u001b[1m898/898\u001b[0m \u001b[32m━━━━━━━━━━━━━━━━━━━━\u001b[0m\u001b[37m\u001b[0m \u001b[1m100s\u001b[0m 112ms/step - accuracy: 0.9905 - auc: 0.9989 - loss: 0.0289 - val_accuracy: 0.9827 - val_auc: 0.9956 - val_loss: 0.0617\n",
      "Epoch 3/5\n",
      "\u001b[1m898/898\u001b[0m \u001b[32m━━━━━━━━━━━━━━━━━━━━\u001b[0m\u001b[37m\u001b[0m \u001b[1m96s\u001b[0m 107ms/step - accuracy: 0.9968 - auc: 0.9996 - loss: 0.0126 - val_accuracy: 0.9832 - val_auc: 0.9955 - val_loss: 0.0597\n",
      "Epoch 4/5\n",
      "\u001b[1m898/898\u001b[0m \u001b[32m━━━━━━━━━━━━━━━━━━━━\u001b[0m\u001b[37m\u001b[0m \u001b[1m92s\u001b[0m 103ms/step - accuracy: 0.9968 - auc: 0.9999 - loss: 0.0105 - val_accuracy: 0.9812 - val_auc: 0.9922 - val_loss: 0.0888\n",
      "Epoch 5/5\n",
      "\u001b[1m898/898\u001b[0m \u001b[32m━━━━━━━━━━━━━━━━━━━━\u001b[0m\u001b[37m\u001b[0m \u001b[1m93s\u001b[0m 103ms/step - accuracy: 0.9987 - auc: 0.9999 - loss: 0.0039 - val_accuracy: 0.9876 - val_auc: 0.9953 - val_loss: 0.0605\n",
      "\n",
      "Avaliando Fold 5 no conjunto de validação do fold:\n",
      "Fold 5 - Val Loss: 0.0605, Val Accuracy: 0.9876, Val AUC: 0.9953\n",
      "\u001b[1m225/225\u001b[0m \u001b[32m━━━━━━━━━━━━━━━━━━━━\u001b[0m\u001b[37m\u001b[0m \u001b[1m5s\u001b[0m 23ms/step\n",
      "\n",
      "Relatório de Classificação para o Fold 5 (no conjunto de validação do fold):\n",
      "\n",
      "              precision    recall  f1-score   support\n",
      "\n",
      "        Fake       0.99      0.99      0.99      3779\n",
      "        True       0.98      0.99      0.99      3404\n",
      "\n",
      "    accuracy                           0.99      7183\n",
      "   macro avg       0.99      0.99      0.99      7183\n",
      "weighted avg       0.99      0.99      0.99      7183\n",
      "\n",
      "\n",
      "--- Resultados da Validação Cruzada K-Fold para LSTM (média) ---\n",
      "Média Val Loss: 0.0697\n",
      "Média Val Accuracy: 0.9835\n",
      "Média Val AUC: 0.9947\n"
     ]
    }
   ],
   "source": [
    "k = 5\n",
    "epochs = 5\n",
    "batch_size = 32\n",
    "vocab_size = 10000\n",
    "embedding_dim = 100\n",
    "max_len = 200\n",
    "\n",
    "kfold = KFold(n_splits=k, shuffle=True, random_state=42)\n",
    "fold_results_lstm = []\n",
    "\n",
    "fold = 1\n",
    "print(\"Iniciando Validação Cruzada para o modelo LSTM...\")\n",
    "for train_idx, val_idx in kfold.split(X_train, y_train):\n",
    "    print(f\"\\n📘 Fold {fold}\")\n",
    "\n",
    "    X_train_cv, X_val_cv = X_train[train_idx], X_train[val_idx]\n",
    "    y_train_cv, y_val_cv = y_train[train_idx], y_train[val_idx]\n",
    "\n",
    "    text_input_cv = tf.keras.Input(shape=(max_len,), name=f'text_input_fold_{fold}')\n",
    "    text_emb_cv = tf.keras.layers.Embedding(input_dim=vocab_size, output_dim=embedding_dim, name=f'embedding_fold_{fold}')(text_input_cv)\n",
    "    lstm_out_cv = tf.keras.layers.Bidirectional(\n",
    "        tf.keras.layers.LSTM(32, return_sequences=True, name=f'lstm_fold_{fold}')\n",
    "    )(text_emb_cv)\n",
    "    dropout_cv_1 = tf.keras.layers.Dropout(0.3, name=f'dropout1_fold_{fold}')(lstm_out_cv)\n",
    "    pooled_cv = tf.keras.layers.GlobalAveragePooling1D(name=f'global_avg_pool_fold_{fold}')(dropout_cv_1)\n",
    "    dense_cv = tf.keras.layers.Dense(64, activation='relu', name=f'dense_fold_{fold}')(pooled_cv)\n",
    "    dropout_cv_2 = tf.keras.layers.Dropout(0.3, name=f'dropout2_fold_{fold}')(dense_cv)\n",
    "    output_cv = tf.keras.layers.Dense(1, activation='sigmoid', name=f'output_fold_{fold}')(dropout_cv_2)\n",
    "\n",
    "    model_cv_lstm = tf.keras.Model(inputs=text_input_cv, outputs=output_cv, name=f'LSTM_Fold_{fold}')\n",
    "\n",
    "    model_cv_lstm.compile(optimizer='adam',\n",
    "                          loss='binary_crossentropy',\n",
    "                          metrics=['accuracy', tf.keras.metrics.AUC(name='auc')])\n",
    "\n",
    "    print(f\"Treinando Fold {fold}...\")\n",
    "    history_cv_lstm = model_cv_lstm.fit(X_train_cv, y_train_cv,\n",
    "                                        epochs=epochs,\n",
    "                                        batch_size=batch_size,\n",
    "                                        validation_data=(X_val_cv, y_val_cv),\n",
    "                                        verbose=1)\n",
    "\n",
    "    print(f\"\\nAvaliando Fold {fold} no conjunto de validação do fold:\")\n",
    "    results_val_fold = model_cv_lstm.evaluate(X_val_cv, y_val_cv, verbose=0)\n",
    "    print(f\"Fold {fold} - Val Loss: {results_val_fold[0]:.4f}, Val Accuracy: {results_val_fold[1]:.4f}, Val AUC: {results_val_fold[2]:.4f}\")\n",
    "\n",
    "    y_pred_cv = (model_cv_lstm.predict(X_val_cv) > 0.5).astype(\"int32\")\n",
    "    print(f\"\\nRelatório de Classificação para o Fold {fold} (no conjunto de validação do fold):\\n\")\n",
    "    print(classification_report(y_val_cv, y_pred_cv, target_names=['Fake', 'True']))\n",
    "\n",
    "    fold_results_lstm.append({\n",
    "        'fold': fold,\n",
    "        'val_loss': results_val_fold[0],\n",
    "        'val_accuracy': results_val_fold[1],\n",
    "        'val_auc': results_val_fold[2],\n",
    "        'classification_report': classification_report(y_val_cv, y_pred_cv, target_names=['Fake', 'True'], output_dict=True)\n",
    "    })\n",
    "\n",
    "    fold += 1\n",
    "\n",
    "print(\"\\n--- Resultados da Validação Cruzada K-Fold para LSTM (média) ---\")\n",
    "avg_val_loss = np.mean([res['val_loss'] for res in fold_results_lstm])\n",
    "avg_val_accuracy = np.mean([res['val_accuracy'] for res in fold_results_lstm])\n",
    "avg_val_auc = np.mean([res['val_auc'] for res in fold_results_lstm])\n",
    "\n",
    "print(f\"Média Val Loss: {avg_val_loss:.4f}\")\n",
    "print(f\"Média Val Accuracy: {avg_val_accuracy:.4f}\")\n",
    "print(f\"Média Val AUC: {avg_val_auc:.4f}\")"
   ]
  }
 ],
 "metadata": {
  "kernelspec": {
   "display_name": "Python 3 (ipykernel)",
   "language": "python",
   "name": "python3"
  },
  "language_info": {
   "codemirror_mode": {
    "name": "ipython",
    "version": 3
   },
   "file_extension": ".py",
   "mimetype": "text/x-python",
   "name": "python",
   "nbconvert_exporter": "python",
   "pygments_lexer": "ipython3",
   "version": "3.11.2"
  }
 },
 "nbformat": 4,
 "nbformat_minor": 5
}
